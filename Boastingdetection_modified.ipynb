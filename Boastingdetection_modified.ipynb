{
  "cells": [
    {
      "cell_type": "code",
      "source": [
        "import torch\n",
        "print(torch.__version__)"
      ],
      "metadata": {
        "id": "s7n2qxyGY69q",
        "outputId": "71039bf5-af13-4566-fbd1-dd8f5f69fa4e",
        "colab": {
          "base_uri": "https://localhost:8080/"
        }
      },
      "execution_count": 1,
      "outputs": [
        {
          "output_type": "stream",
          "name": "stdout",
          "text": [
            "2.0.1+cu118\n"
          ]
        }
      ]
    },
    {
      "cell_type": "code",
      "execution_count": 2,
      "metadata": {
        "id": "Rv4sL1i35bn1",
        "colab": {
          "base_uri": "https://localhost:8080/"
        },
        "outputId": "cc7cc10f-b9e5-43ef-9cb1-3ac327d16dd2"
      },
      "outputs": [
        {
          "output_type": "execute_result",
          "data": {
            "text/plain": [
              "<torch._C.Generator at 0x7f8612bb76b0>"
            ]
          },
          "metadata": {},
          "execution_count": 2
        }
      ],
      "source": [
        "import pandas as pd\n",
        "import numpy as np\n",
        "import random\n",
        "import spacy\n",
        "import matplotlib as plt\n",
        "import warnings\n",
        "warnings.simplefilter(\"ignore\")\n",
        "SEED = 32\n",
        "torch.manual_seed(SEED)\n"
      ]
    },
    {
      "cell_type": "code",
      "source": [
        "from google.colab import drive\n",
        "drive.mount('/content/drive')"
      ],
      "metadata": {
        "id": "XGxN3ZAF6mNz",
        "colab": {
          "base_uri": "https://localhost:8080/"
        },
        "outputId": "68b6125e-577c-456c-daeb-05ae5d9ca6e7"
      },
      "execution_count": 3,
      "outputs": [
        {
          "output_type": "stream",
          "name": "stdout",
          "text": [
            "Mounted at /content/drive\n"
          ]
        }
      ]
    },
    {
      "cell_type": "code",
      "execution_count": 4,
      "metadata": {
        "id": "CtmYUfvB5bn5",
        "colab": {
          "base_uri": "https://localhost:8080/",
          "height": 112
        },
        "outputId": "0778a5b4-f618-4c22-c90e-c083135f567f"
      },
      "outputs": [
        {
          "output_type": "execute_result",
          "data": {
            "text/plain": [
              "                    id                                               text  \\\n",
              "0  1142887970506268676  Do n't think I 'm gonna get around to uploadin...   \n",
              "1  1100041263540260864  girls are gonna rt this in hopes that their sh...   \n",
              "\n",
              "  sampling  round label  \n",
              "0   random      1   not  \n",
              "1   random      1   not  "
            ],
            "text/html": [
              "\n",
              "\n",
              "  <div id=\"df-abf87010-5ec7-4934-8d92-9191a75de68c\">\n",
              "    <div class=\"colab-df-container\">\n",
              "      <div>\n",
              "<style scoped>\n",
              "    .dataframe tbody tr th:only-of-type {\n",
              "        vertical-align: middle;\n",
              "    }\n",
              "\n",
              "    .dataframe tbody tr th {\n",
              "        vertical-align: top;\n",
              "    }\n",
              "\n",
              "    .dataframe thead th {\n",
              "        text-align: right;\n",
              "    }\n",
              "</style>\n",
              "<table border=\"1\" class=\"dataframe\">\n",
              "  <thead>\n",
              "    <tr style=\"text-align: right;\">\n",
              "      <th></th>\n",
              "      <th>id</th>\n",
              "      <th>text</th>\n",
              "      <th>sampling</th>\n",
              "      <th>round</th>\n",
              "      <th>label</th>\n",
              "    </tr>\n",
              "  </thead>\n",
              "  <tbody>\n",
              "    <tr>\n",
              "      <th>0</th>\n",
              "      <td>1142887970506268676</td>\n",
              "      <td>Do n't think I 'm gonna get around to uploadin...</td>\n",
              "      <td>random</td>\n",
              "      <td>1</td>\n",
              "      <td>not</td>\n",
              "    </tr>\n",
              "    <tr>\n",
              "      <th>1</th>\n",
              "      <td>1100041263540260864</td>\n",
              "      <td>girls are gonna rt this in hopes that their sh...</td>\n",
              "      <td>random</td>\n",
              "      <td>1</td>\n",
              "      <td>not</td>\n",
              "    </tr>\n",
              "  </tbody>\n",
              "</table>\n",
              "</div>\n",
              "      <button class=\"colab-df-convert\" onclick=\"convertToInteractive('df-abf87010-5ec7-4934-8d92-9191a75de68c')\"\n",
              "              title=\"Convert this dataframe to an interactive table.\"\n",
              "              style=\"display:none;\">\n",
              "\n",
              "  <svg xmlns=\"http://www.w3.org/2000/svg\" height=\"24px\"viewBox=\"0 0 24 24\"\n",
              "       width=\"24px\">\n",
              "    <path d=\"M0 0h24v24H0V0z\" fill=\"none\"/>\n",
              "    <path d=\"M18.56 5.44l.94 2.06.94-2.06 2.06-.94-2.06-.94-.94-2.06-.94 2.06-2.06.94zm-11 1L8.5 8.5l.94-2.06 2.06-.94-2.06-.94L8.5 2.5l-.94 2.06-2.06.94zm10 10l.94 2.06.94-2.06 2.06-.94-2.06-.94-.94-2.06-.94 2.06-2.06.94z\"/><path d=\"M17.41 7.96l-1.37-1.37c-.4-.4-.92-.59-1.43-.59-.52 0-1.04.2-1.43.59L10.3 9.45l-7.72 7.72c-.78.78-.78 2.05 0 2.83L4 21.41c.39.39.9.59 1.41.59.51 0 1.02-.2 1.41-.59l7.78-7.78 2.81-2.81c.8-.78.8-2.07 0-2.86zM5.41 20L4 18.59l7.72-7.72 1.47 1.35L5.41 20z\"/>\n",
              "  </svg>\n",
              "      </button>\n",
              "\n",
              "\n",
              "\n",
              "    <div id=\"df-37cb10fe-315e-4eeb-a00f-604f14ee0f6b\">\n",
              "      <button class=\"colab-df-quickchart\" onclick=\"quickchart('df-37cb10fe-315e-4eeb-a00f-604f14ee0f6b')\"\n",
              "              title=\"Suggest charts.\"\n",
              "              style=\"display:none;\">\n",
              "\n",
              "<svg xmlns=\"http://www.w3.org/2000/svg\" height=\"24px\"viewBox=\"0 0 24 24\"\n",
              "     width=\"24px\">\n",
              "    <g>\n",
              "        <path d=\"M19 3H5c-1.1 0-2 .9-2 2v14c0 1.1.9 2 2 2h14c1.1 0 2-.9 2-2V5c0-1.1-.9-2-2-2zM9 17H7v-7h2v7zm4 0h-2V7h2v10zm4 0h-2v-4h2v4z\"/>\n",
              "    </g>\n",
              "</svg>\n",
              "      </button>\n",
              "    </div>\n",
              "\n",
              "<style>\n",
              "  .colab-df-quickchart {\n",
              "    background-color: #E8F0FE;\n",
              "    border: none;\n",
              "    border-radius: 50%;\n",
              "    cursor: pointer;\n",
              "    display: none;\n",
              "    fill: #1967D2;\n",
              "    height: 32px;\n",
              "    padding: 0 0 0 0;\n",
              "    width: 32px;\n",
              "  }\n",
              "\n",
              "  .colab-df-quickchart:hover {\n",
              "    background-color: #E2EBFA;\n",
              "    box-shadow: 0px 1px 2px rgba(60, 64, 67, 0.3), 0px 1px 3px 1px rgba(60, 64, 67, 0.15);\n",
              "    fill: #174EA6;\n",
              "  }\n",
              "\n",
              "  [theme=dark] .colab-df-quickchart {\n",
              "    background-color: #3B4455;\n",
              "    fill: #D2E3FC;\n",
              "  }\n",
              "\n",
              "  [theme=dark] .colab-df-quickchart:hover {\n",
              "    background-color: #434B5C;\n",
              "    box-shadow: 0px 1px 3px 1px rgba(0, 0, 0, 0.15);\n",
              "    filter: drop-shadow(0px 1px 2px rgba(0, 0, 0, 0.3));\n",
              "    fill: #FFFFFF;\n",
              "  }\n",
              "</style>\n",
              "\n",
              "    <script>\n",
              "      async function quickchart(key) {\n",
              "        const containerElement = document.querySelector('#' + key);\n",
              "        const charts = await google.colab.kernel.invokeFunction(\n",
              "            'suggestCharts', [key], {});\n",
              "      }\n",
              "    </script>\n",
              "\n",
              "      <script>\n",
              "\n",
              "function displayQuickchartButton(domScope) {\n",
              "  let quickchartButtonEl =\n",
              "    domScope.querySelector('#df-37cb10fe-315e-4eeb-a00f-604f14ee0f6b button.colab-df-quickchart');\n",
              "  quickchartButtonEl.style.display =\n",
              "    google.colab.kernel.accessAllowed ? 'block' : 'none';\n",
              "}\n",
              "\n",
              "        displayQuickchartButton(document);\n",
              "      </script>\n",
              "      <style>\n",
              "    .colab-df-container {\n",
              "      display:flex;\n",
              "      flex-wrap:wrap;\n",
              "      gap: 12px;\n",
              "    }\n",
              "\n",
              "    .colab-df-convert {\n",
              "      background-color: #E8F0FE;\n",
              "      border: none;\n",
              "      border-radius: 50%;\n",
              "      cursor: pointer;\n",
              "      display: none;\n",
              "      fill: #1967D2;\n",
              "      height: 32px;\n",
              "      padding: 0 0 0 0;\n",
              "      width: 32px;\n",
              "    }\n",
              "\n",
              "    .colab-df-convert:hover {\n",
              "      background-color: #E2EBFA;\n",
              "      box-shadow: 0px 1px 2px rgba(60, 64, 67, 0.3), 0px 1px 3px 1px rgba(60, 64, 67, 0.15);\n",
              "      fill: #174EA6;\n",
              "    }\n",
              "\n",
              "    [theme=dark] .colab-df-convert {\n",
              "      background-color: #3B4455;\n",
              "      fill: #D2E3FC;\n",
              "    }\n",
              "\n",
              "    [theme=dark] .colab-df-convert:hover {\n",
              "      background-color: #434B5C;\n",
              "      box-shadow: 0px 1px 3px 1px rgba(0, 0, 0, 0.15);\n",
              "      filter: drop-shadow(0px 1px 2px rgba(0, 0, 0, 0.3));\n",
              "      fill: #FFFFFF;\n",
              "    }\n",
              "  </style>\n",
              "\n",
              "      <script>\n",
              "        const buttonEl =\n",
              "          document.querySelector('#df-abf87010-5ec7-4934-8d92-9191a75de68c button.colab-df-convert');\n",
              "        buttonEl.style.display =\n",
              "          google.colab.kernel.accessAllowed ? 'block' : 'none';\n",
              "\n",
              "        async function convertToInteractive(key) {\n",
              "          const element = document.querySelector('#df-abf87010-5ec7-4934-8d92-9191a75de68c');\n",
              "          const dataTable =\n",
              "            await google.colab.kernel.invokeFunction('convertToInteractive',\n",
              "                                                     [key], {});\n",
              "          if (!dataTable) return;\n",
              "\n",
              "          const docLinkHtml = 'Like what you see? Visit the ' +\n",
              "            '<a target=\"_blank\" href=https://colab.research.google.com/notebooks/data_table.ipynb>data table notebook</a>'\n",
              "            + ' to learn more about interactive tables.';\n",
              "          element.innerHTML = '';\n",
              "          dataTable['output_type'] = 'display_data';\n",
              "          await google.colab.output.renderOutput(dataTable, element);\n",
              "          const docLink = document.createElement('div');\n",
              "          docLink.innerHTML = docLinkHtml;\n",
              "          element.appendChild(docLink);\n",
              "        }\n",
              "      </script>\n",
              "    </div>\n",
              "  </div>\n"
            ]
          },
          "metadata": {},
          "execution_count": 4
        }
      ],
      "source": [
        "df = pd.read_csv('/content/drive/MyDrive/Semester Final/sc project/bragging_data.csv')\n",
        "df.head(2)"
      ]
    },
    {
      "cell_type": "code",
      "execution_count": 5,
      "metadata": {
        "id": "7aoip05V5bn5",
        "colab": {
          "base_uri": "https://localhost:8080/",
          "height": 143
        },
        "outputId": "fd76f868-88b4-4105-e57d-c428e6423164"
      },
      "outputs": [
        {
          "output_type": "execute_result",
          "data": {
            "text/plain": [
              "                                                text label\n",
              "0  Do n't think I 'm gonna get around to uploadin...   not\n",
              "1  girls are gonna rt this in hopes that their sh...   not\n",
              "2                            I remember those days ?   not"
            ],
            "text/html": [
              "\n",
              "\n",
              "  <div id=\"df-eea84bb2-a46d-44db-9bbc-2ba6dabaabb5\">\n",
              "    <div class=\"colab-df-container\">\n",
              "      <div>\n",
              "<style scoped>\n",
              "    .dataframe tbody tr th:only-of-type {\n",
              "        vertical-align: middle;\n",
              "    }\n",
              "\n",
              "    .dataframe tbody tr th {\n",
              "        vertical-align: top;\n",
              "    }\n",
              "\n",
              "    .dataframe thead th {\n",
              "        text-align: right;\n",
              "    }\n",
              "</style>\n",
              "<table border=\"1\" class=\"dataframe\">\n",
              "  <thead>\n",
              "    <tr style=\"text-align: right;\">\n",
              "      <th></th>\n",
              "      <th>text</th>\n",
              "      <th>label</th>\n",
              "    </tr>\n",
              "  </thead>\n",
              "  <tbody>\n",
              "    <tr>\n",
              "      <th>0</th>\n",
              "      <td>Do n't think I 'm gonna get around to uploadin...</td>\n",
              "      <td>not</td>\n",
              "    </tr>\n",
              "    <tr>\n",
              "      <th>1</th>\n",
              "      <td>girls are gonna rt this in hopes that their sh...</td>\n",
              "      <td>not</td>\n",
              "    </tr>\n",
              "    <tr>\n",
              "      <th>2</th>\n",
              "      <td>I remember those days ?</td>\n",
              "      <td>not</td>\n",
              "    </tr>\n",
              "  </tbody>\n",
              "</table>\n",
              "</div>\n",
              "      <button class=\"colab-df-convert\" onclick=\"convertToInteractive('df-eea84bb2-a46d-44db-9bbc-2ba6dabaabb5')\"\n",
              "              title=\"Convert this dataframe to an interactive table.\"\n",
              "              style=\"display:none;\">\n",
              "\n",
              "  <svg xmlns=\"http://www.w3.org/2000/svg\" height=\"24px\"viewBox=\"0 0 24 24\"\n",
              "       width=\"24px\">\n",
              "    <path d=\"M0 0h24v24H0V0z\" fill=\"none\"/>\n",
              "    <path d=\"M18.56 5.44l.94 2.06.94-2.06 2.06-.94-2.06-.94-.94-2.06-.94 2.06-2.06.94zm-11 1L8.5 8.5l.94-2.06 2.06-.94-2.06-.94L8.5 2.5l-.94 2.06-2.06.94zm10 10l.94 2.06.94-2.06 2.06-.94-2.06-.94-.94-2.06-.94 2.06-2.06.94z\"/><path d=\"M17.41 7.96l-1.37-1.37c-.4-.4-.92-.59-1.43-.59-.52 0-1.04.2-1.43.59L10.3 9.45l-7.72 7.72c-.78.78-.78 2.05 0 2.83L4 21.41c.39.39.9.59 1.41.59.51 0 1.02-.2 1.41-.59l7.78-7.78 2.81-2.81c.8-.78.8-2.07 0-2.86zM5.41 20L4 18.59l7.72-7.72 1.47 1.35L5.41 20z\"/>\n",
              "  </svg>\n",
              "      </button>\n",
              "\n",
              "\n",
              "\n",
              "    <div id=\"df-7dad7040-f083-44b9-81d5-8b15d92fa069\">\n",
              "      <button class=\"colab-df-quickchart\" onclick=\"quickchart('df-7dad7040-f083-44b9-81d5-8b15d92fa069')\"\n",
              "              title=\"Suggest charts.\"\n",
              "              style=\"display:none;\">\n",
              "\n",
              "<svg xmlns=\"http://www.w3.org/2000/svg\" height=\"24px\"viewBox=\"0 0 24 24\"\n",
              "     width=\"24px\">\n",
              "    <g>\n",
              "        <path d=\"M19 3H5c-1.1 0-2 .9-2 2v14c0 1.1.9 2 2 2h14c1.1 0 2-.9 2-2V5c0-1.1-.9-2-2-2zM9 17H7v-7h2v7zm4 0h-2V7h2v10zm4 0h-2v-4h2v4z\"/>\n",
              "    </g>\n",
              "</svg>\n",
              "      </button>\n",
              "    </div>\n",
              "\n",
              "<style>\n",
              "  .colab-df-quickchart {\n",
              "    background-color: #E8F0FE;\n",
              "    border: none;\n",
              "    border-radius: 50%;\n",
              "    cursor: pointer;\n",
              "    display: none;\n",
              "    fill: #1967D2;\n",
              "    height: 32px;\n",
              "    padding: 0 0 0 0;\n",
              "    width: 32px;\n",
              "  }\n",
              "\n",
              "  .colab-df-quickchart:hover {\n",
              "    background-color: #E2EBFA;\n",
              "    box-shadow: 0px 1px 2px rgba(60, 64, 67, 0.3), 0px 1px 3px 1px rgba(60, 64, 67, 0.15);\n",
              "    fill: #174EA6;\n",
              "  }\n",
              "\n",
              "  [theme=dark] .colab-df-quickchart {\n",
              "    background-color: #3B4455;\n",
              "    fill: #D2E3FC;\n",
              "  }\n",
              "\n",
              "  [theme=dark] .colab-df-quickchart:hover {\n",
              "    background-color: #434B5C;\n",
              "    box-shadow: 0px 1px 3px 1px rgba(0, 0, 0, 0.15);\n",
              "    filter: drop-shadow(0px 1px 2px rgba(0, 0, 0, 0.3));\n",
              "    fill: #FFFFFF;\n",
              "  }\n",
              "</style>\n",
              "\n",
              "    <script>\n",
              "      async function quickchart(key) {\n",
              "        const containerElement = document.querySelector('#' + key);\n",
              "        const charts = await google.colab.kernel.invokeFunction(\n",
              "            'suggestCharts', [key], {});\n",
              "      }\n",
              "    </script>\n",
              "\n",
              "      <script>\n",
              "\n",
              "function displayQuickchartButton(domScope) {\n",
              "  let quickchartButtonEl =\n",
              "    domScope.querySelector('#df-7dad7040-f083-44b9-81d5-8b15d92fa069 button.colab-df-quickchart');\n",
              "  quickchartButtonEl.style.display =\n",
              "    google.colab.kernel.accessAllowed ? 'block' : 'none';\n",
              "}\n",
              "\n",
              "        displayQuickchartButton(document);\n",
              "      </script>\n",
              "      <style>\n",
              "    .colab-df-container {\n",
              "      display:flex;\n",
              "      flex-wrap:wrap;\n",
              "      gap: 12px;\n",
              "    }\n",
              "\n",
              "    .colab-df-convert {\n",
              "      background-color: #E8F0FE;\n",
              "      border: none;\n",
              "      border-radius: 50%;\n",
              "      cursor: pointer;\n",
              "      display: none;\n",
              "      fill: #1967D2;\n",
              "      height: 32px;\n",
              "      padding: 0 0 0 0;\n",
              "      width: 32px;\n",
              "    }\n",
              "\n",
              "    .colab-df-convert:hover {\n",
              "      background-color: #E2EBFA;\n",
              "      box-shadow: 0px 1px 2px rgba(60, 64, 67, 0.3), 0px 1px 3px 1px rgba(60, 64, 67, 0.15);\n",
              "      fill: #174EA6;\n",
              "    }\n",
              "\n",
              "    [theme=dark] .colab-df-convert {\n",
              "      background-color: #3B4455;\n",
              "      fill: #D2E3FC;\n",
              "    }\n",
              "\n",
              "    [theme=dark] .colab-df-convert:hover {\n",
              "      background-color: #434B5C;\n",
              "      box-shadow: 0px 1px 3px 1px rgba(0, 0, 0, 0.15);\n",
              "      filter: drop-shadow(0px 1px 2px rgba(0, 0, 0, 0.3));\n",
              "      fill: #FFFFFF;\n",
              "    }\n",
              "  </style>\n",
              "\n",
              "      <script>\n",
              "        const buttonEl =\n",
              "          document.querySelector('#df-eea84bb2-a46d-44db-9bbc-2ba6dabaabb5 button.colab-df-convert');\n",
              "        buttonEl.style.display =\n",
              "          google.colab.kernel.accessAllowed ? 'block' : 'none';\n",
              "\n",
              "        async function convertToInteractive(key) {\n",
              "          const element = document.querySelector('#df-eea84bb2-a46d-44db-9bbc-2ba6dabaabb5');\n",
              "          const dataTable =\n",
              "            await google.colab.kernel.invokeFunction('convertToInteractive',\n",
              "                                                     [key], {});\n",
              "          if (!dataTable) return;\n",
              "\n",
              "          const docLinkHtml = 'Like what you see? Visit the ' +\n",
              "            '<a target=\"_blank\" href=https://colab.research.google.com/notebooks/data_table.ipynb>data table notebook</a>'\n",
              "            + ' to learn more about interactive tables.';\n",
              "          element.innerHTML = '';\n",
              "          dataTable['output_type'] = 'display_data';\n",
              "          await google.colab.output.renderOutput(dataTable, element);\n",
              "          const docLink = document.createElement('div');\n",
              "          docLink.innerHTML = docLinkHtml;\n",
              "          element.appendChild(docLink);\n",
              "        }\n",
              "      </script>\n",
              "    </div>\n",
              "  </div>\n"
            ]
          },
          "metadata": {},
          "execution_count": 5
        }
      ],
      "source": [
        "df=df.drop([\"id\",\"sampling\",\"round\"],axis=1)\n",
        "df.head(3)"
      ]
    },
    {
      "cell_type": "code",
      "execution_count": 6,
      "metadata": {
        "id": "88VCb5FT5bn6",
        "colab": {
          "base_uri": "https://localhost:8080/"
        },
        "outputId": "db7bf245-3c69-4deb-9f63-8cd0ee9d4202"
      },
      "outputs": [
        {
          "output_type": "execute_result",
          "data": {
            "text/plain": [
              "(6696, 2)"
            ]
          },
          "metadata": {},
          "execution_count": 6
        }
      ],
      "source": [
        "df.shape"
      ]
    },
    {
      "cell_type": "code",
      "execution_count": 7,
      "metadata": {
        "id": "WjBnQfFO5bn6",
        "colab": {
          "base_uri": "https://localhost:8080/"
        },
        "outputId": "47c2f8fc-6a7d-4ba7-de76-87d797c78e43"
      },
      "outputs": [
        {
          "output_type": "execute_result",
          "data": {
            "text/plain": [
              "array(['not', 'achievement', 'action', 'possession', 'trait',\n",
              "       'affiliation', 'feeling'], dtype=object)"
            ]
          },
          "metadata": {},
          "execution_count": 7
        }
      ],
      "source": [
        "df[\"label\"].unique()"
      ]
    },
    {
      "cell_type": "code",
      "source": [
        "df[\"label\"].value_counts()"
      ],
      "metadata": {
        "id": "1MEKiqSTG1O5",
        "colab": {
          "base_uri": "https://localhost:8080/"
        },
        "outputId": "e0256b94-8fb2-4a6e-e7fc-61e5b32a64ac"
      },
      "execution_count": 8,
      "outputs": [
        {
          "output_type": "execute_result",
          "data": {
            "text/plain": [
              "not            5915\n",
              "achievement     237\n",
              "action          185\n",
              "trait           139\n",
              "possession       86\n",
              "affiliation      68\n",
              "feeling          66\n",
              "Name: label, dtype: int64"
            ]
          },
          "metadata": {},
          "execution_count": 8
        }
      ]
    },
    {
      "cell_type": "code",
      "execution_count": 9,
      "metadata": {
        "id": "fKcX_skw5bn6"
      },
      "outputs": [],
      "source": [
        "def binary_class_dataset(data):\n",
        "\n",
        "    data = data.iloc[:, [0, 1]]\n",
        "    data.columns = ['text', 'label']\n",
        "    Original_labels = {\n",
        "        'not':0,                         #0-> not self boasting\n",
        "        'achievement':1,                 #1-> self boasting\n",
        "        'action':1,\n",
        "        'possession':1,\n",
        "        'trait':1,\n",
        "        'affiliation':1,\n",
        "        'feeling':1\n",
        "    }\n",
        "    data['label'] = data['label'].map(Original_labels)\n",
        "\n",
        "    return data"
      ]
    },
    {
      "cell_type": "code",
      "execution_count": 10,
      "metadata": {
        "id": "QSbnaFVv5bn7",
        "colab": {
          "base_uri": "https://localhost:8080/",
          "height": 206
        },
        "outputId": "25d5d2c8-16c7-4d31-a230-abc3bcb54c45"
      },
      "outputs": [
        {
          "output_type": "execute_result",
          "data": {
            "text/plain": [
              "                                                   text  label\n",
              "6691  my cat is really dumb . he deserves a kiss on ...      1\n",
              "6692  David de Gea racks up his 100th Premier League...      0\n",
              "6693  @USER Just to show the versatility :face_with_...      0\n",
              "6694  #humblebrag - - 1 of our hundreds of 5 - star ...      0\n",
              "6695                Mizzou gets a callahan , tied 2-2 !      0"
            ],
            "text/html": [
              "\n",
              "\n",
              "  <div id=\"df-f2d00676-c725-4ea7-b009-422cf07b16f7\">\n",
              "    <div class=\"colab-df-container\">\n",
              "      <div>\n",
              "<style scoped>\n",
              "    .dataframe tbody tr th:only-of-type {\n",
              "        vertical-align: middle;\n",
              "    }\n",
              "\n",
              "    .dataframe tbody tr th {\n",
              "        vertical-align: top;\n",
              "    }\n",
              "\n",
              "    .dataframe thead th {\n",
              "        text-align: right;\n",
              "    }\n",
              "</style>\n",
              "<table border=\"1\" class=\"dataframe\">\n",
              "  <thead>\n",
              "    <tr style=\"text-align: right;\">\n",
              "      <th></th>\n",
              "      <th>text</th>\n",
              "      <th>label</th>\n",
              "    </tr>\n",
              "  </thead>\n",
              "  <tbody>\n",
              "    <tr>\n",
              "      <th>6691</th>\n",
              "      <td>my cat is really dumb . he deserves a kiss on ...</td>\n",
              "      <td>1</td>\n",
              "    </tr>\n",
              "    <tr>\n",
              "      <th>6692</th>\n",
              "      <td>David de Gea racks up his 100th Premier League...</td>\n",
              "      <td>0</td>\n",
              "    </tr>\n",
              "    <tr>\n",
              "      <th>6693</th>\n",
              "      <td>@USER Just to show the versatility :face_with_...</td>\n",
              "      <td>0</td>\n",
              "    </tr>\n",
              "    <tr>\n",
              "      <th>6694</th>\n",
              "      <td>#humblebrag - - 1 of our hundreds of 5 - star ...</td>\n",
              "      <td>0</td>\n",
              "    </tr>\n",
              "    <tr>\n",
              "      <th>6695</th>\n",
              "      <td>Mizzou gets a callahan , tied 2-2 !</td>\n",
              "      <td>0</td>\n",
              "    </tr>\n",
              "  </tbody>\n",
              "</table>\n",
              "</div>\n",
              "      <button class=\"colab-df-convert\" onclick=\"convertToInteractive('df-f2d00676-c725-4ea7-b009-422cf07b16f7')\"\n",
              "              title=\"Convert this dataframe to an interactive table.\"\n",
              "              style=\"display:none;\">\n",
              "\n",
              "  <svg xmlns=\"http://www.w3.org/2000/svg\" height=\"24px\"viewBox=\"0 0 24 24\"\n",
              "       width=\"24px\">\n",
              "    <path d=\"M0 0h24v24H0V0z\" fill=\"none\"/>\n",
              "    <path d=\"M18.56 5.44l.94 2.06.94-2.06 2.06-.94-2.06-.94-.94-2.06-.94 2.06-2.06.94zm-11 1L8.5 8.5l.94-2.06 2.06-.94-2.06-.94L8.5 2.5l-.94 2.06-2.06.94zm10 10l.94 2.06.94-2.06 2.06-.94-2.06-.94-.94-2.06-.94 2.06-2.06.94z\"/><path d=\"M17.41 7.96l-1.37-1.37c-.4-.4-.92-.59-1.43-.59-.52 0-1.04.2-1.43.59L10.3 9.45l-7.72 7.72c-.78.78-.78 2.05 0 2.83L4 21.41c.39.39.9.59 1.41.59.51 0 1.02-.2 1.41-.59l7.78-7.78 2.81-2.81c.8-.78.8-2.07 0-2.86zM5.41 20L4 18.59l7.72-7.72 1.47 1.35L5.41 20z\"/>\n",
              "  </svg>\n",
              "      </button>\n",
              "\n",
              "\n",
              "\n",
              "    <div id=\"df-0409165c-9ad4-434b-ab74-3791b44dc8a1\">\n",
              "      <button class=\"colab-df-quickchart\" onclick=\"quickchart('df-0409165c-9ad4-434b-ab74-3791b44dc8a1')\"\n",
              "              title=\"Suggest charts.\"\n",
              "              style=\"display:none;\">\n",
              "\n",
              "<svg xmlns=\"http://www.w3.org/2000/svg\" height=\"24px\"viewBox=\"0 0 24 24\"\n",
              "     width=\"24px\">\n",
              "    <g>\n",
              "        <path d=\"M19 3H5c-1.1 0-2 .9-2 2v14c0 1.1.9 2 2 2h14c1.1 0 2-.9 2-2V5c0-1.1-.9-2-2-2zM9 17H7v-7h2v7zm4 0h-2V7h2v10zm4 0h-2v-4h2v4z\"/>\n",
              "    </g>\n",
              "</svg>\n",
              "      </button>\n",
              "    </div>\n",
              "\n",
              "<style>\n",
              "  .colab-df-quickchart {\n",
              "    background-color: #E8F0FE;\n",
              "    border: none;\n",
              "    border-radius: 50%;\n",
              "    cursor: pointer;\n",
              "    display: none;\n",
              "    fill: #1967D2;\n",
              "    height: 32px;\n",
              "    padding: 0 0 0 0;\n",
              "    width: 32px;\n",
              "  }\n",
              "\n",
              "  .colab-df-quickchart:hover {\n",
              "    background-color: #E2EBFA;\n",
              "    box-shadow: 0px 1px 2px rgba(60, 64, 67, 0.3), 0px 1px 3px 1px rgba(60, 64, 67, 0.15);\n",
              "    fill: #174EA6;\n",
              "  }\n",
              "\n",
              "  [theme=dark] .colab-df-quickchart {\n",
              "    background-color: #3B4455;\n",
              "    fill: #D2E3FC;\n",
              "  }\n",
              "\n",
              "  [theme=dark] .colab-df-quickchart:hover {\n",
              "    background-color: #434B5C;\n",
              "    box-shadow: 0px 1px 3px 1px rgba(0, 0, 0, 0.15);\n",
              "    filter: drop-shadow(0px 1px 2px rgba(0, 0, 0, 0.3));\n",
              "    fill: #FFFFFF;\n",
              "  }\n",
              "</style>\n",
              "\n",
              "    <script>\n",
              "      async function quickchart(key) {\n",
              "        const containerElement = document.querySelector('#' + key);\n",
              "        const charts = await google.colab.kernel.invokeFunction(\n",
              "            'suggestCharts', [key], {});\n",
              "      }\n",
              "    </script>\n",
              "\n",
              "      <script>\n",
              "\n",
              "function displayQuickchartButton(domScope) {\n",
              "  let quickchartButtonEl =\n",
              "    domScope.querySelector('#df-0409165c-9ad4-434b-ab74-3791b44dc8a1 button.colab-df-quickchart');\n",
              "  quickchartButtonEl.style.display =\n",
              "    google.colab.kernel.accessAllowed ? 'block' : 'none';\n",
              "}\n",
              "\n",
              "        displayQuickchartButton(document);\n",
              "      </script>\n",
              "      <style>\n",
              "    .colab-df-container {\n",
              "      display:flex;\n",
              "      flex-wrap:wrap;\n",
              "      gap: 12px;\n",
              "    }\n",
              "\n",
              "    .colab-df-convert {\n",
              "      background-color: #E8F0FE;\n",
              "      border: none;\n",
              "      border-radius: 50%;\n",
              "      cursor: pointer;\n",
              "      display: none;\n",
              "      fill: #1967D2;\n",
              "      height: 32px;\n",
              "      padding: 0 0 0 0;\n",
              "      width: 32px;\n",
              "    }\n",
              "\n",
              "    .colab-df-convert:hover {\n",
              "      background-color: #E2EBFA;\n",
              "      box-shadow: 0px 1px 2px rgba(60, 64, 67, 0.3), 0px 1px 3px 1px rgba(60, 64, 67, 0.15);\n",
              "      fill: #174EA6;\n",
              "    }\n",
              "\n",
              "    [theme=dark] .colab-df-convert {\n",
              "      background-color: #3B4455;\n",
              "      fill: #D2E3FC;\n",
              "    }\n",
              "\n",
              "    [theme=dark] .colab-df-convert:hover {\n",
              "      background-color: #434B5C;\n",
              "      box-shadow: 0px 1px 3px 1px rgba(0, 0, 0, 0.15);\n",
              "      filter: drop-shadow(0px 1px 2px rgba(0, 0, 0, 0.3));\n",
              "      fill: #FFFFFF;\n",
              "    }\n",
              "  </style>\n",
              "\n",
              "      <script>\n",
              "        const buttonEl =\n",
              "          document.querySelector('#df-f2d00676-c725-4ea7-b009-422cf07b16f7 button.colab-df-convert');\n",
              "        buttonEl.style.display =\n",
              "          google.colab.kernel.accessAllowed ? 'block' : 'none';\n",
              "\n",
              "        async function convertToInteractive(key) {\n",
              "          const element = document.querySelector('#df-f2d00676-c725-4ea7-b009-422cf07b16f7');\n",
              "          const dataTable =\n",
              "            await google.colab.kernel.invokeFunction('convertToInteractive',\n",
              "                                                     [key], {});\n",
              "          if (!dataTable) return;\n",
              "\n",
              "          const docLinkHtml = 'Like what you see? Visit the ' +\n",
              "            '<a target=\"_blank\" href=https://colab.research.google.com/notebooks/data_table.ipynb>data table notebook</a>'\n",
              "            + ' to learn more about interactive tables.';\n",
              "          element.innerHTML = '';\n",
              "          dataTable['output_type'] = 'display_data';\n",
              "          await google.colab.output.renderOutput(dataTable, element);\n",
              "          const docLink = document.createElement('div');\n",
              "          docLink.innerHTML = docLinkHtml;\n",
              "          element.appendChild(docLink);\n",
              "        }\n",
              "      </script>\n",
              "    </div>\n",
              "  </div>\n"
            ]
          },
          "metadata": {},
          "execution_count": 10
        }
      ],
      "source": [
        "binary_df= binary_class_dataset(df)\n",
        "binary_df.tail(5)"
      ]
    },
    {
      "cell_type": "code",
      "source": [
        "binary_df[\"label\"].value_counts()"
      ],
      "metadata": {
        "id": "DCDGBVSwG90f",
        "colab": {
          "base_uri": "https://localhost:8080/"
        },
        "outputId": "97290879-4cdb-4114-f62f-6612300575ec"
      },
      "execution_count": 11,
      "outputs": [
        {
          "output_type": "execute_result",
          "data": {
            "text/plain": [
              "0    5915\n",
              "1     781\n",
              "Name: label, dtype: int64"
            ]
          },
          "metadata": {},
          "execution_count": 11
        }
      ]
    },
    {
      "cell_type": "code",
      "execution_count": 12,
      "metadata": {
        "id": "wPKi0Ipu5bn7",
        "colab": {
          "base_uri": "https://localhost:8080/"
        },
        "outputId": "75d9c4bb-be81-4d25-d9d6-f150a1f604a5"
      },
      "outputs": [
        {
          "output_type": "execute_result",
          "data": {
            "text/plain": [
              "6696"
            ]
          },
          "metadata": {},
          "execution_count": 12
        }
      ],
      "source": [
        "len(binary_df)"
      ]
    },
    {
      "cell_type": "code",
      "execution_count": 13,
      "metadata": {
        "id": "sZYubmZv5bn8",
        "colab": {
          "base_uri": "https://localhost:8080/"
        },
        "outputId": "d3f1a9ff-fef6-405e-c249-da3d2ef9b0be"
      },
      "outputs": [
        {
          "output_type": "execute_result",
          "data": {
            "text/plain": [
              "text     0\n",
              "label    0\n",
              "dtype: int64"
            ]
          },
          "metadata": {},
          "execution_count": 13
        }
      ],
      "source": [
        "binary_df.isnull().sum()"
      ]
    },
    {
      "cell_type": "code",
      "source": [
        "# pip install nlpaug"
      ],
      "metadata": {
        "id": "fFKMYvssWRhV"
      },
      "execution_count": null,
      "outputs": []
    },
    {
      "cell_type": "code",
      "source": [
        "# pip install nltk"
      ],
      "metadata": {
        "id": "3E9cSnygp0ob"
      },
      "execution_count": null,
      "outputs": []
    },
    {
      "cell_type": "code",
      "source": [
        "final_df=binary_df.copy()\n",
        "final_df.head(5)"
      ],
      "metadata": {
        "colab": {
          "base_uri": "https://localhost:8080/",
          "height": 206
        },
        "id": "zEPgFSq_F-yU",
        "outputId": "b7f91ec9-6d0a-45f8-999f-afc7d643f49f"
      },
      "execution_count": 14,
      "outputs": [
        {
          "output_type": "execute_result",
          "data": {
            "text/plain": [
              "                                                text  label\n",
              "0  Do n't think I 'm gonna get around to uploadin...      0\n",
              "1  girls are gonna rt this in hopes that their sh...      0\n",
              "2                            I remember those days ?      0\n",
              "3  ms . corona is just rude . i wo n't be able to...      0\n",
              "4  ok i 'm gonna go watch maleficent hype me up i...      0"
            ],
            "text/html": [
              "\n",
              "\n",
              "  <div id=\"df-c0e31a95-87cf-415f-8076-ad06c270b13c\">\n",
              "    <div class=\"colab-df-container\">\n",
              "      <div>\n",
              "<style scoped>\n",
              "    .dataframe tbody tr th:only-of-type {\n",
              "        vertical-align: middle;\n",
              "    }\n",
              "\n",
              "    .dataframe tbody tr th {\n",
              "        vertical-align: top;\n",
              "    }\n",
              "\n",
              "    .dataframe thead th {\n",
              "        text-align: right;\n",
              "    }\n",
              "</style>\n",
              "<table border=\"1\" class=\"dataframe\">\n",
              "  <thead>\n",
              "    <tr style=\"text-align: right;\">\n",
              "      <th></th>\n",
              "      <th>text</th>\n",
              "      <th>label</th>\n",
              "    </tr>\n",
              "  </thead>\n",
              "  <tbody>\n",
              "    <tr>\n",
              "      <th>0</th>\n",
              "      <td>Do n't think I 'm gonna get around to uploadin...</td>\n",
              "      <td>0</td>\n",
              "    </tr>\n",
              "    <tr>\n",
              "      <th>1</th>\n",
              "      <td>girls are gonna rt this in hopes that their sh...</td>\n",
              "      <td>0</td>\n",
              "    </tr>\n",
              "    <tr>\n",
              "      <th>2</th>\n",
              "      <td>I remember those days ?</td>\n",
              "      <td>0</td>\n",
              "    </tr>\n",
              "    <tr>\n",
              "      <th>3</th>\n",
              "      <td>ms . corona is just rude . i wo n't be able to...</td>\n",
              "      <td>0</td>\n",
              "    </tr>\n",
              "    <tr>\n",
              "      <th>4</th>\n",
              "      <td>ok i 'm gonna go watch maleficent hype me up i...</td>\n",
              "      <td>0</td>\n",
              "    </tr>\n",
              "  </tbody>\n",
              "</table>\n",
              "</div>\n",
              "      <button class=\"colab-df-convert\" onclick=\"convertToInteractive('df-c0e31a95-87cf-415f-8076-ad06c270b13c')\"\n",
              "              title=\"Convert this dataframe to an interactive table.\"\n",
              "              style=\"display:none;\">\n",
              "\n",
              "  <svg xmlns=\"http://www.w3.org/2000/svg\" height=\"24px\"viewBox=\"0 0 24 24\"\n",
              "       width=\"24px\">\n",
              "    <path d=\"M0 0h24v24H0V0z\" fill=\"none\"/>\n",
              "    <path d=\"M18.56 5.44l.94 2.06.94-2.06 2.06-.94-2.06-.94-.94-2.06-.94 2.06-2.06.94zm-11 1L8.5 8.5l.94-2.06 2.06-.94-2.06-.94L8.5 2.5l-.94 2.06-2.06.94zm10 10l.94 2.06.94-2.06 2.06-.94-2.06-.94-.94-2.06-.94 2.06-2.06.94z\"/><path d=\"M17.41 7.96l-1.37-1.37c-.4-.4-.92-.59-1.43-.59-.52 0-1.04.2-1.43.59L10.3 9.45l-7.72 7.72c-.78.78-.78 2.05 0 2.83L4 21.41c.39.39.9.59 1.41.59.51 0 1.02-.2 1.41-.59l7.78-7.78 2.81-2.81c.8-.78.8-2.07 0-2.86zM5.41 20L4 18.59l7.72-7.72 1.47 1.35L5.41 20z\"/>\n",
              "  </svg>\n",
              "      </button>\n",
              "\n",
              "\n",
              "\n",
              "    <div id=\"df-c0ae2008-1b8f-4d3a-ac97-a582a0872a4f\">\n",
              "      <button class=\"colab-df-quickchart\" onclick=\"quickchart('df-c0ae2008-1b8f-4d3a-ac97-a582a0872a4f')\"\n",
              "              title=\"Suggest charts.\"\n",
              "              style=\"display:none;\">\n",
              "\n",
              "<svg xmlns=\"http://www.w3.org/2000/svg\" height=\"24px\"viewBox=\"0 0 24 24\"\n",
              "     width=\"24px\">\n",
              "    <g>\n",
              "        <path d=\"M19 3H5c-1.1 0-2 .9-2 2v14c0 1.1.9 2 2 2h14c1.1 0 2-.9 2-2V5c0-1.1-.9-2-2-2zM9 17H7v-7h2v7zm4 0h-2V7h2v10zm4 0h-2v-4h2v4z\"/>\n",
              "    </g>\n",
              "</svg>\n",
              "      </button>\n",
              "    </div>\n",
              "\n",
              "<style>\n",
              "  .colab-df-quickchart {\n",
              "    background-color: #E8F0FE;\n",
              "    border: none;\n",
              "    border-radius: 50%;\n",
              "    cursor: pointer;\n",
              "    display: none;\n",
              "    fill: #1967D2;\n",
              "    height: 32px;\n",
              "    padding: 0 0 0 0;\n",
              "    width: 32px;\n",
              "  }\n",
              "\n",
              "  .colab-df-quickchart:hover {\n",
              "    background-color: #E2EBFA;\n",
              "    box-shadow: 0px 1px 2px rgba(60, 64, 67, 0.3), 0px 1px 3px 1px rgba(60, 64, 67, 0.15);\n",
              "    fill: #174EA6;\n",
              "  }\n",
              "\n",
              "  [theme=dark] .colab-df-quickchart {\n",
              "    background-color: #3B4455;\n",
              "    fill: #D2E3FC;\n",
              "  }\n",
              "\n",
              "  [theme=dark] .colab-df-quickchart:hover {\n",
              "    background-color: #434B5C;\n",
              "    box-shadow: 0px 1px 3px 1px rgba(0, 0, 0, 0.15);\n",
              "    filter: drop-shadow(0px 1px 2px rgba(0, 0, 0, 0.3));\n",
              "    fill: #FFFFFF;\n",
              "  }\n",
              "</style>\n",
              "\n",
              "    <script>\n",
              "      async function quickchart(key) {\n",
              "        const containerElement = document.querySelector('#' + key);\n",
              "        const charts = await google.colab.kernel.invokeFunction(\n",
              "            'suggestCharts', [key], {});\n",
              "      }\n",
              "    </script>\n",
              "\n",
              "      <script>\n",
              "\n",
              "function displayQuickchartButton(domScope) {\n",
              "  let quickchartButtonEl =\n",
              "    domScope.querySelector('#df-c0ae2008-1b8f-4d3a-ac97-a582a0872a4f button.colab-df-quickchart');\n",
              "  quickchartButtonEl.style.display =\n",
              "    google.colab.kernel.accessAllowed ? 'block' : 'none';\n",
              "}\n",
              "\n",
              "        displayQuickchartButton(document);\n",
              "      </script>\n",
              "      <style>\n",
              "    .colab-df-container {\n",
              "      display:flex;\n",
              "      flex-wrap:wrap;\n",
              "      gap: 12px;\n",
              "    }\n",
              "\n",
              "    .colab-df-convert {\n",
              "      background-color: #E8F0FE;\n",
              "      border: none;\n",
              "      border-radius: 50%;\n",
              "      cursor: pointer;\n",
              "      display: none;\n",
              "      fill: #1967D2;\n",
              "      height: 32px;\n",
              "      padding: 0 0 0 0;\n",
              "      width: 32px;\n",
              "    }\n",
              "\n",
              "    .colab-df-convert:hover {\n",
              "      background-color: #E2EBFA;\n",
              "      box-shadow: 0px 1px 2px rgba(60, 64, 67, 0.3), 0px 1px 3px 1px rgba(60, 64, 67, 0.15);\n",
              "      fill: #174EA6;\n",
              "    }\n",
              "\n",
              "    [theme=dark] .colab-df-convert {\n",
              "      background-color: #3B4455;\n",
              "      fill: #D2E3FC;\n",
              "    }\n",
              "\n",
              "    [theme=dark] .colab-df-convert:hover {\n",
              "      background-color: #434B5C;\n",
              "      box-shadow: 0px 1px 3px 1px rgba(0, 0, 0, 0.15);\n",
              "      filter: drop-shadow(0px 1px 2px rgba(0, 0, 0, 0.3));\n",
              "      fill: #FFFFFF;\n",
              "    }\n",
              "  </style>\n",
              "\n",
              "      <script>\n",
              "        const buttonEl =\n",
              "          document.querySelector('#df-c0e31a95-87cf-415f-8076-ad06c270b13c button.colab-df-convert');\n",
              "        buttonEl.style.display =\n",
              "          google.colab.kernel.accessAllowed ? 'block' : 'none';\n",
              "\n",
              "        async function convertToInteractive(key) {\n",
              "          const element = document.querySelector('#df-c0e31a95-87cf-415f-8076-ad06c270b13c');\n",
              "          const dataTable =\n",
              "            await google.colab.kernel.invokeFunction('convertToInteractive',\n",
              "                                                     [key], {});\n",
              "          if (!dataTable) return;\n",
              "\n",
              "          const docLinkHtml = 'Like what you see? Visit the ' +\n",
              "            '<a target=\"_blank\" href=https://colab.research.google.com/notebooks/data_table.ipynb>data table notebook</a>'\n",
              "            + ' to learn more about interactive tables.';\n",
              "          element.innerHTML = '';\n",
              "          dataTable['output_type'] = 'display_data';\n",
              "          await google.colab.output.renderOutput(dataTable, element);\n",
              "          const docLink = document.createElement('div');\n",
              "          docLink.innerHTML = docLinkHtml;\n",
              "          element.appendChild(docLink);\n",
              "        }\n",
              "      </script>\n",
              "    </div>\n",
              "  </div>\n"
            ]
          },
          "metadata": {},
          "execution_count": 14
        }
      ]
    },
    {
      "cell_type": "code",
      "execution_count": 15,
      "metadata": {
        "colab": {
          "base_uri": "https://localhost:8080/"
        },
        "id": "EuGZQxTr5bn-",
        "outputId": "beb71191-db11-47f4-b53e-0fa26826d2c2"
      },
      "outputs": [
        {
          "output_type": "stream",
          "name": "stdout",
          "text": [
            "Requirement already satisfied: torchvision in /usr/local/lib/python3.10/dist-packages (0.15.2+cu118)\n",
            "Requirement already satisfied: numpy in /usr/local/lib/python3.10/dist-packages (from torchvision) (1.22.4)\n",
            "Requirement already satisfied: requests in /usr/local/lib/python3.10/dist-packages (from torchvision) (2.27.1)\n",
            "Requirement already satisfied: torch==2.0.1 in /usr/local/lib/python3.10/dist-packages (from torchvision) (2.0.1+cu118)\n",
            "Requirement already satisfied: pillow!=8.3.*,>=5.3.0 in /usr/local/lib/python3.10/dist-packages (from torchvision) (9.4.0)\n",
            "Requirement already satisfied: filelock in /usr/local/lib/python3.10/dist-packages (from torch==2.0.1->torchvision) (3.12.2)\n",
            "Requirement already satisfied: typing-extensions in /usr/local/lib/python3.10/dist-packages (from torch==2.0.1->torchvision) (4.7.1)\n",
            "Requirement already satisfied: sympy in /usr/local/lib/python3.10/dist-packages (from torch==2.0.1->torchvision) (1.11.1)\n",
            "Requirement already satisfied: networkx in /usr/local/lib/python3.10/dist-packages (from torch==2.0.1->torchvision) (3.1)\n",
            "Requirement already satisfied: jinja2 in /usr/local/lib/python3.10/dist-packages (from torch==2.0.1->torchvision) (3.1.2)\n",
            "Requirement already satisfied: triton==2.0.0 in /usr/local/lib/python3.10/dist-packages (from torch==2.0.1->torchvision) (2.0.0)\n",
            "Requirement already satisfied: cmake in /usr/local/lib/python3.10/dist-packages (from triton==2.0.0->torch==2.0.1->torchvision) (3.25.2)\n",
            "Requirement already satisfied: lit in /usr/local/lib/python3.10/dist-packages (from triton==2.0.0->torch==2.0.1->torchvision) (16.0.6)\n",
            "Requirement already satisfied: urllib3<1.27,>=1.21.1 in /usr/local/lib/python3.10/dist-packages (from requests->torchvision) (1.26.16)\n",
            "Requirement already satisfied: certifi>=2017.4.17 in /usr/local/lib/python3.10/dist-packages (from requests->torchvision) (2023.7.22)\n",
            "Requirement already satisfied: charset-normalizer~=2.0.0 in /usr/local/lib/python3.10/dist-packages (from requests->torchvision) (2.0.12)\n",
            "Requirement already satisfied: idna<4,>=2.5 in /usr/local/lib/python3.10/dist-packages (from requests->torchvision) (3.4)\n",
            "Requirement already satisfied: MarkupSafe>=2.0 in /usr/local/lib/python3.10/dist-packages (from jinja2->torch==2.0.1->torchvision) (2.1.3)\n",
            "Requirement already satisfied: mpmath>=0.19 in /usr/local/lib/python3.10/dist-packages (from sympy->torch==2.0.1->torchvision) (1.3.0)\n"
          ]
        }
      ],
      "source": [
        "%pip install torchvision"
      ]
    },
    {
      "cell_type": "code",
      "source": [
        "pip install transformers"
      ],
      "metadata": {
        "colab": {
          "base_uri": "https://localhost:8080/"
        },
        "id": "aGamlQMo7ruJ",
        "outputId": "00ce6d55-2907-40f7-b0c3-d9e485417af2"
      },
      "execution_count": 16,
      "outputs": [
        {
          "output_type": "stream",
          "name": "stdout",
          "text": [
            "Collecting transformers\n",
            "  Downloading transformers-4.31.0-py3-none-any.whl (7.4 MB)\n",
            "\u001b[2K     \u001b[90m━━━━━━━━━━━━━━━━━━━━━━━━━━━━━━━━━━━━━━━━\u001b[0m \u001b[32m7.4/7.4 MB\u001b[0m \u001b[31m18.9 MB/s\u001b[0m eta \u001b[36m0:00:00\u001b[0m\n",
            "\u001b[?25hRequirement already satisfied: filelock in /usr/local/lib/python3.10/dist-packages (from transformers) (3.12.2)\n",
            "Collecting huggingface-hub<1.0,>=0.14.1 (from transformers)\n",
            "  Downloading huggingface_hub-0.16.4-py3-none-any.whl (268 kB)\n",
            "\u001b[2K     \u001b[90m━━━━━━━━━━━━━━━━━━━━━━━━━━━━━━━━━━━━━━\u001b[0m \u001b[32m268.8/268.8 kB\u001b[0m \u001b[31m28.9 MB/s\u001b[0m eta \u001b[36m0:00:00\u001b[0m\n",
            "\u001b[?25hRequirement already satisfied: numpy>=1.17 in /usr/local/lib/python3.10/dist-packages (from transformers) (1.22.4)\n",
            "Requirement already satisfied: packaging>=20.0 in /usr/local/lib/python3.10/dist-packages (from transformers) (23.1)\n",
            "Requirement already satisfied: pyyaml>=5.1 in /usr/local/lib/python3.10/dist-packages (from transformers) (6.0.1)\n",
            "Requirement already satisfied: regex!=2019.12.17 in /usr/local/lib/python3.10/dist-packages (from transformers) (2022.10.31)\n",
            "Requirement already satisfied: requests in /usr/local/lib/python3.10/dist-packages (from transformers) (2.27.1)\n",
            "Collecting tokenizers!=0.11.3,<0.14,>=0.11.1 (from transformers)\n",
            "  Downloading tokenizers-0.13.3-cp310-cp310-manylinux_2_17_x86_64.manylinux2014_x86_64.whl (7.8 MB)\n",
            "\u001b[2K     \u001b[90m━━━━━━━━━━━━━━━━━━━━━━━━━━━━━━━━━━━━━━━━\u001b[0m \u001b[32m7.8/7.8 MB\u001b[0m \u001b[31m65.1 MB/s\u001b[0m eta \u001b[36m0:00:00\u001b[0m\n",
            "\u001b[?25hCollecting safetensors>=0.3.1 (from transformers)\n",
            "  Downloading safetensors-0.3.1-cp310-cp310-manylinux_2_17_x86_64.manylinux2014_x86_64.whl (1.3 MB)\n",
            "\u001b[2K     \u001b[90m━━━━━━━━━━━━━━━━━━━━━━━━━━━━━━━━━━━━━━━━\u001b[0m \u001b[32m1.3/1.3 MB\u001b[0m \u001b[31m68.7 MB/s\u001b[0m eta \u001b[36m0:00:00\u001b[0m\n",
            "\u001b[?25hRequirement already satisfied: tqdm>=4.27 in /usr/local/lib/python3.10/dist-packages (from transformers) (4.65.0)\n",
            "Requirement already satisfied: fsspec in /usr/local/lib/python3.10/dist-packages (from huggingface-hub<1.0,>=0.14.1->transformers) (2023.6.0)\n",
            "Requirement already satisfied: typing-extensions>=3.7.4.3 in /usr/local/lib/python3.10/dist-packages (from huggingface-hub<1.0,>=0.14.1->transformers) (4.7.1)\n",
            "Requirement already satisfied: urllib3<1.27,>=1.21.1 in /usr/local/lib/python3.10/dist-packages (from requests->transformers) (1.26.16)\n",
            "Requirement already satisfied: certifi>=2017.4.17 in /usr/local/lib/python3.10/dist-packages (from requests->transformers) (2023.7.22)\n",
            "Requirement already satisfied: charset-normalizer~=2.0.0 in /usr/local/lib/python3.10/dist-packages (from requests->transformers) (2.0.12)\n",
            "Requirement already satisfied: idna<4,>=2.5 in /usr/local/lib/python3.10/dist-packages (from requests->transformers) (3.4)\n",
            "Installing collected packages: tokenizers, safetensors, huggingface-hub, transformers\n",
            "Successfully installed huggingface-hub-0.16.4 safetensors-0.3.1 tokenizers-0.13.3 transformers-4.31.0\n"
          ]
        }
      ]
    },
    {
      "cell_type": "code",
      "execution_count": 17,
      "metadata": {
        "id": "mGQqLp595bn-"
      },
      "outputs": [],
      "source": [
        "import re\n",
        "import string\n",
        "import torch.nn as nn\n",
        "from torch.utils.data import DataLoader, TensorDataset\n",
        "from sklearn.model_selection import train_test_split\n",
        "from sklearn.metrics import classification_report, accuracy_score\n",
        "from transformers import AutoModel\n",
        "from transformers import BertModel, BertTokenizer\n",
        "from transformers import DistilBertTokenizer, DistilBertModel\n",
        "from transformers import RobertaTokenizer, RobertaModel\n",
        "\n",
        "device = torch.device('cuda' if torch.cuda.is_available() else 'cpu')\n",
        "if torch.cuda.is_available():\n",
        "    torch.cuda.manual_seed_all(SEED)"
      ]
    },
    {
      "cell_type": "code",
      "source": [
        "torch.cuda.is_available()"
      ],
      "metadata": {
        "colab": {
          "base_uri": "https://localhost:8080/"
        },
        "id": "5bZM8xe6Fg22",
        "outputId": "8b6d382c-7499-4353-aa79-aa5f5a832705"
      },
      "execution_count": 18,
      "outputs": [
        {
          "output_type": "execute_result",
          "data": {
            "text/plain": [
              "True"
            ]
          },
          "metadata": {},
          "execution_count": 18
        }
      ]
    },
    {
      "cell_type": "code",
      "source": [
        "emoticon_to_word = {\n",
        "    \":)\": \"happy\",\n",
        "    \":D\": \"laugh\",\n",
        "    \":(\": \"sad\",\n",
        "    \":P\": \"playful\",\n",
        "    \";)\": \"wink\",\n",
        "    \"<3\": \"heart\",\n",
        "    \":|\": \"neutral\",\n",
        "    \":O\": \"surprised\",\n",
        "    \":/\": \"confused\",\n",
        "    \":*\": \"kiss\",\n",
        "    \":3\": \"cute\",\n",
        "    \":')\": \"tears of joy\",\n",
        "    \":$\": \"blush\",\n",
        "    \":]\": \"smile\",\n",
        "    \":>\": \"smirk\",\n",
        "    \":<\": \"disappointed\",\n",
        "    \":o)\": \"clown\",\n",
        "    \":-(\": \"frown\",\n",
        "    \":O)\": \"angelic\",\n",
        "    \":'(\": \"cry\",\n",
        "    \":v\": \"peace\",\n",
        "    \":]\": \"glasses\",\n",
        "    \"8-)\": \"cool\",\n",
        "    \">:(\": \"angry\",\n",
        "    \":X\": \"zip_it\",\n",
        "    \":'D\": \"rofl\",\n",
        "    \":-O\": \"shocked\",\n",
        "    \":|]\": \"robot\",\n",
        "    \"<(\\\" )\": \"penguin\",\n",
        "    \"^_^\": \"kawaii\",\n",
        "    \">_>\": \"shifty eyes\",\n",
        "    \"O:)\": \"halo\",\n",
        "    \":-*\": \"blow kiss\",\n",
        "    \"8-D\": \"big laugh\",\n",
        "    \":no_mouth:\": \"speechless\",\n",
        "    '(-:':'Frown, sad, angry or pouting',\n",
        "    ':-)))':'Very very Happy face or smiley',\n",
        "    'XD':'Laughing, big grin or laugh with glasses',\n",
        "    'xd':'Laughing, big grin or laugh with glasses',\n",
        "    \":thumbs_up:\": \"thumbs up\",\n",
        "    \":red_heart:\":\"red heart\",\n",
        "    \":smiling_face_with_heart-eyes:\" : \"smiling face with heart-eyes \",\n",
        "    \":hugging_face:\":\"hugging_face\",\n",
        "    \" :beaming_face_with_smiling_eyes:\" : \" beaming_face_with_smiling_eyes\",\n",
        "    \" :double_exclamation_mark:\":\" double_exclamation_mark\",\n",
        "    \":clapping_hands: \":\"clapping_hands\"\n",
        "}\n"
      ],
      "metadata": {
        "id": "AaDA5Mri3N6e"
      },
      "execution_count": 19,
      "outputs": []
    },
    {
      "cell_type": "code",
      "source": [
        "def replace_emoticons(text, emoticon_to_word):\n",
        "    for emoticon, word in emoticon_to_word.items():\n",
        "        text = text.replace(emoticon, word)\n",
        "    return text\n",
        "\n",
        "\n",
        "final_df['text'] = final_df['text'].apply(lambda text: replace_emoticons(text, emoticon_to_word))\n"
      ],
      "metadata": {
        "id": "T9TJcilM2GYp"
      },
      "execution_count": 20,
      "outputs": []
    },
    {
      "cell_type": "code",
      "source": [
        "test_text = replace_emoticons(final_df['text'][964], emoticon_to_word)\n",
        "print(test_text)"
      ],
      "metadata": {
        "colab": {
          "base_uri": "https://localhost:8080/"
        },
        "id": "76pedz625cgm",
        "outputId": "a8c5892c-90ce-43b0-b050-70ebb2b9c1ab"
      },
      "execution_count": 21,
      "outputs": [
        {
          "output_type": "stream",
          "name": "stdout",
          "text": [
            "i 'm gonna hit 1k by the end of next month i feel it happy\n"
          ]
        }
      ]
    },
    {
      "cell_type": "code",
      "source": [
        "final_df.head(10)"
      ],
      "metadata": {
        "colab": {
          "base_uri": "https://localhost:8080/",
          "height": 363
        },
        "id": "hN3f4x7381Vo",
        "outputId": "1ec2c6b3-bbc6-4cc8-bc8c-c5f4d7e62bd7"
      },
      "execution_count": null,
      "outputs": [
        {
          "output_type": "execute_result",
          "data": {
            "text/plain": [
              "                                                text  label\n",
              "0  Do n't think I 'm gonna get around to uploadin...      0\n",
              "1  girls are gonna rt this in hopes that their sh...      0\n",
              "2                            I remember those days ?      0\n",
              "3  ms . corona is just rude . i wo n't be able to...      0\n",
              "4  ok i 'm gonna go watch maleficent hype me up i...      0\n",
              "5    THIS is the only good cop in this day and age .      0\n",
              "6  even a small clip like this , I can laugh out ...      0\n",
              "7  @USER @USER lmfaoooo ! i 'll never be a shirt ...      0\n",
              "8  PSPC 's Translation Bureau - we do that ! thum...      0\n",
              "9  wait theyre gonna post mark and haechan oh my god      0"
            ],
            "text/html": [
              "\n",
              "\n",
              "  <div id=\"df-13599d49-ab98-4ecc-82ef-2c0423f147e3\">\n",
              "    <div class=\"colab-df-container\">\n",
              "      <div>\n",
              "<style scoped>\n",
              "    .dataframe tbody tr th:only-of-type {\n",
              "        vertical-align: middle;\n",
              "    }\n",
              "\n",
              "    .dataframe tbody tr th {\n",
              "        vertical-align: top;\n",
              "    }\n",
              "\n",
              "    .dataframe thead th {\n",
              "        text-align: right;\n",
              "    }\n",
              "</style>\n",
              "<table border=\"1\" class=\"dataframe\">\n",
              "  <thead>\n",
              "    <tr style=\"text-align: right;\">\n",
              "      <th></th>\n",
              "      <th>text</th>\n",
              "      <th>label</th>\n",
              "    </tr>\n",
              "  </thead>\n",
              "  <tbody>\n",
              "    <tr>\n",
              "      <th>0</th>\n",
              "      <td>Do n't think I 'm gonna get around to uploadin...</td>\n",
              "      <td>0</td>\n",
              "    </tr>\n",
              "    <tr>\n",
              "      <th>1</th>\n",
              "      <td>girls are gonna rt this in hopes that their sh...</td>\n",
              "      <td>0</td>\n",
              "    </tr>\n",
              "    <tr>\n",
              "      <th>2</th>\n",
              "      <td>I remember those days ?</td>\n",
              "      <td>0</td>\n",
              "    </tr>\n",
              "    <tr>\n",
              "      <th>3</th>\n",
              "      <td>ms . corona is just rude . i wo n't be able to...</td>\n",
              "      <td>0</td>\n",
              "    </tr>\n",
              "    <tr>\n",
              "      <th>4</th>\n",
              "      <td>ok i 'm gonna go watch maleficent hype me up i...</td>\n",
              "      <td>0</td>\n",
              "    </tr>\n",
              "    <tr>\n",
              "      <th>5</th>\n",
              "      <td>THIS is the only good cop in this day and age .</td>\n",
              "      <td>0</td>\n",
              "    </tr>\n",
              "    <tr>\n",
              "      <th>6</th>\n",
              "      <td>even a small clip like this , I can laugh out ...</td>\n",
              "      <td>0</td>\n",
              "    </tr>\n",
              "    <tr>\n",
              "      <th>7</th>\n",
              "      <td>@USER @USER lmfaoooo ! i 'll never be a shirt ...</td>\n",
              "      <td>0</td>\n",
              "    </tr>\n",
              "    <tr>\n",
              "      <th>8</th>\n",
              "      <td>PSPC 's Translation Bureau - we do that ! thum...</td>\n",
              "      <td>0</td>\n",
              "    </tr>\n",
              "    <tr>\n",
              "      <th>9</th>\n",
              "      <td>wait theyre gonna post mark and haechan oh my god</td>\n",
              "      <td>0</td>\n",
              "    </tr>\n",
              "  </tbody>\n",
              "</table>\n",
              "</div>\n",
              "      <button class=\"colab-df-convert\" onclick=\"convertToInteractive('df-13599d49-ab98-4ecc-82ef-2c0423f147e3')\"\n",
              "              title=\"Convert this dataframe to an interactive table.\"\n",
              "              style=\"display:none;\">\n",
              "\n",
              "  <svg xmlns=\"http://www.w3.org/2000/svg\" height=\"24px\"viewBox=\"0 0 24 24\"\n",
              "       width=\"24px\">\n",
              "    <path d=\"M0 0h24v24H0V0z\" fill=\"none\"/>\n",
              "    <path d=\"M18.56 5.44l.94 2.06.94-2.06 2.06-.94-2.06-.94-.94-2.06-.94 2.06-2.06.94zm-11 1L8.5 8.5l.94-2.06 2.06-.94-2.06-.94L8.5 2.5l-.94 2.06-2.06.94zm10 10l.94 2.06.94-2.06 2.06-.94-2.06-.94-.94-2.06-.94 2.06-2.06.94z\"/><path d=\"M17.41 7.96l-1.37-1.37c-.4-.4-.92-.59-1.43-.59-.52 0-1.04.2-1.43.59L10.3 9.45l-7.72 7.72c-.78.78-.78 2.05 0 2.83L4 21.41c.39.39.9.59 1.41.59.51 0 1.02-.2 1.41-.59l7.78-7.78 2.81-2.81c.8-.78.8-2.07 0-2.86zM5.41 20L4 18.59l7.72-7.72 1.47 1.35L5.41 20z\"/>\n",
              "  </svg>\n",
              "      </button>\n",
              "\n",
              "\n",
              "\n",
              "    <div id=\"df-345bb845-a49b-4119-811d-452fde2dc75e\">\n",
              "      <button class=\"colab-df-quickchart\" onclick=\"quickchart('df-345bb845-a49b-4119-811d-452fde2dc75e')\"\n",
              "              title=\"Suggest charts.\"\n",
              "              style=\"display:none;\">\n",
              "\n",
              "<svg xmlns=\"http://www.w3.org/2000/svg\" height=\"24px\"viewBox=\"0 0 24 24\"\n",
              "     width=\"24px\">\n",
              "    <g>\n",
              "        <path d=\"M19 3H5c-1.1 0-2 .9-2 2v14c0 1.1.9 2 2 2h14c1.1 0 2-.9 2-2V5c0-1.1-.9-2-2-2zM9 17H7v-7h2v7zm4 0h-2V7h2v10zm4 0h-2v-4h2v4z\"/>\n",
              "    </g>\n",
              "</svg>\n",
              "      </button>\n",
              "    </div>\n",
              "\n",
              "<style>\n",
              "  .colab-df-quickchart {\n",
              "    background-color: #E8F0FE;\n",
              "    border: none;\n",
              "    border-radius: 50%;\n",
              "    cursor: pointer;\n",
              "    display: none;\n",
              "    fill: #1967D2;\n",
              "    height: 32px;\n",
              "    padding: 0 0 0 0;\n",
              "    width: 32px;\n",
              "  }\n",
              "\n",
              "  .colab-df-quickchart:hover {\n",
              "    background-color: #E2EBFA;\n",
              "    box-shadow: 0px 1px 2px rgba(60, 64, 67, 0.3), 0px 1px 3px 1px rgba(60, 64, 67, 0.15);\n",
              "    fill: #174EA6;\n",
              "  }\n",
              "\n",
              "  [theme=dark] .colab-df-quickchart {\n",
              "    background-color: #3B4455;\n",
              "    fill: #D2E3FC;\n",
              "  }\n",
              "\n",
              "  [theme=dark] .colab-df-quickchart:hover {\n",
              "    background-color: #434B5C;\n",
              "    box-shadow: 0px 1px 3px 1px rgba(0, 0, 0, 0.15);\n",
              "    filter: drop-shadow(0px 1px 2px rgba(0, 0, 0, 0.3));\n",
              "    fill: #FFFFFF;\n",
              "  }\n",
              "</style>\n",
              "\n",
              "    <script>\n",
              "      async function quickchart(key) {\n",
              "        const containerElement = document.querySelector('#' + key);\n",
              "        const charts = await google.colab.kernel.invokeFunction(\n",
              "            'suggestCharts', [key], {});\n",
              "      }\n",
              "    </script>\n",
              "\n",
              "      <script>\n",
              "\n",
              "function displayQuickchartButton(domScope) {\n",
              "  let quickchartButtonEl =\n",
              "    domScope.querySelector('#df-345bb845-a49b-4119-811d-452fde2dc75e button.colab-df-quickchart');\n",
              "  quickchartButtonEl.style.display =\n",
              "    google.colab.kernel.accessAllowed ? 'block' : 'none';\n",
              "}\n",
              "\n",
              "        displayQuickchartButton(document);\n",
              "      </script>\n",
              "      <style>\n",
              "    .colab-df-container {\n",
              "      display:flex;\n",
              "      flex-wrap:wrap;\n",
              "      gap: 12px;\n",
              "    }\n",
              "\n",
              "    .colab-df-convert {\n",
              "      background-color: #E8F0FE;\n",
              "      border: none;\n",
              "      border-radius: 50%;\n",
              "      cursor: pointer;\n",
              "      display: none;\n",
              "      fill: #1967D2;\n",
              "      height: 32px;\n",
              "      padding: 0 0 0 0;\n",
              "      width: 32px;\n",
              "    }\n",
              "\n",
              "    .colab-df-convert:hover {\n",
              "      background-color: #E2EBFA;\n",
              "      box-shadow: 0px 1px 2px rgba(60, 64, 67, 0.3), 0px 1px 3px 1px rgba(60, 64, 67, 0.15);\n",
              "      fill: #174EA6;\n",
              "    }\n",
              "\n",
              "    [theme=dark] .colab-df-convert {\n",
              "      background-color: #3B4455;\n",
              "      fill: #D2E3FC;\n",
              "    }\n",
              "\n",
              "    [theme=dark] .colab-df-convert:hover {\n",
              "      background-color: #434B5C;\n",
              "      box-shadow: 0px 1px 3px 1px rgba(0, 0, 0, 0.15);\n",
              "      filter: drop-shadow(0px 1px 2px rgba(0, 0, 0, 0.3));\n",
              "      fill: #FFFFFF;\n",
              "    }\n",
              "  </style>\n",
              "\n",
              "      <script>\n",
              "        const buttonEl =\n",
              "          document.querySelector('#df-13599d49-ab98-4ecc-82ef-2c0423f147e3 button.colab-df-convert');\n",
              "        buttonEl.style.display =\n",
              "          google.colab.kernel.accessAllowed ? 'block' : 'none';\n",
              "\n",
              "        async function convertToInteractive(key) {\n",
              "          const element = document.querySelector('#df-13599d49-ab98-4ecc-82ef-2c0423f147e3');\n",
              "          const dataTable =\n",
              "            await google.colab.kernel.invokeFunction('convertToInteractive',\n",
              "                                                     [key], {});\n",
              "          if (!dataTable) return;\n",
              "\n",
              "          const docLinkHtml = 'Like what you see? Visit the ' +\n",
              "            '<a target=\"_blank\" href=https://colab.research.google.com/notebooks/data_table.ipynb>data table notebook</a>'\n",
              "            + ' to learn more about interactive tables.';\n",
              "          element.innerHTML = '';\n",
              "          dataTable['output_type'] = 'display_data';\n",
              "          await google.colab.output.renderOutput(dataTable, element);\n",
              "          const docLink = document.createElement('div');\n",
              "          docLink.innerHTML = docLinkHtml;\n",
              "          element.appendChild(docLink);\n",
              "        }\n",
              "      </script>\n",
              "    </div>\n",
              "  </div>\n"
            ]
          },
          "metadata": {},
          "execution_count": 77
        }
      ]
    },
    {
      "cell_type": "code",
      "source": [
        "print(len(final_df))"
      ],
      "metadata": {
        "colab": {
          "base_uri": "https://localhost:8080/"
        },
        "id": "nDrMKHEov4UH",
        "outputId": "272070e5-fc03-4558-a4a9-b369d3ede6a0"
      },
      "execution_count": 22,
      "outputs": [
        {
          "output_type": "stream",
          "name": "stdout",
          "text": [
            "6696\n"
          ]
        }
      ]
    },
    {
      "cell_type": "code",
      "source": [
        "final_df['text'].str.split().apply(len).max()"
      ],
      "metadata": {
        "colab": {
          "base_uri": "https://localhost:8080/"
        },
        "id": "2_1NH3JmVWj9",
        "outputId": "129bfeb5-aee6-49e4-f500-82e83c8f67f0"
      },
      "execution_count": 23,
      "outputs": [
        {
          "output_type": "execute_result",
          "data": {
            "text/plain": [
              "107"
            ]
          },
          "metadata": {},
          "execution_count": 23
        }
      ]
    },
    {
      "cell_type": "code",
      "source": [
        "train_df, temp_df = train_test_split(final_df, test_size=0.3, random_state=42,stratify=final_df['label'])\n",
        "val_df, test_df = train_test_split(temp_df, test_size=0.5, random_state=42,stratify=temp_df['label'])"
      ],
      "metadata": {
        "id": "H04w38e-wMWo"
      },
      "execution_count": 66,
      "outputs": []
    },
    {
      "cell_type": "code",
      "source": [
        "train_df['label'].value_counts()"
      ],
      "metadata": {
        "colab": {
          "base_uri": "https://localhost:8080/"
        },
        "id": "j_fsHEMEIUY9",
        "outputId": "16c31281-a91e-494e-be6f-787223170b5c"
      },
      "execution_count": 67,
      "outputs": [
        {
          "output_type": "execute_result",
          "data": {
            "text/plain": [
              "0    4140\n",
              "1     547\n",
              "Name: label, dtype: int64"
            ]
          },
          "metadata": {},
          "execution_count": 67
        }
      ]
    },
    {
      "cell_type": "code",
      "source": [
        "val_df['label'].value_counts()"
      ],
      "metadata": {
        "colab": {
          "base_uri": "https://localhost:8080/"
        },
        "id": "OwOuP6NGPMbq",
        "outputId": "4da2cc76-f746-431b-ef4b-191df9a402b3"
      },
      "execution_count": 80,
      "outputs": [
        {
          "output_type": "execute_result",
          "data": {
            "text/plain": [
              "0    887\n",
              "1    117\n",
              "Name: label, dtype: int64"
            ]
          },
          "metadata": {},
          "execution_count": 80
        }
      ]
    },
    {
      "cell_type": "code",
      "source": [
        "test_df['label'].value_counts()"
      ],
      "metadata": {
        "colab": {
          "base_uri": "https://localhost:8080/"
        },
        "id": "T9xt-NmmPOcH",
        "outputId": "c0474612-0cf5-4815-bb31-f7d6892f0662"
      },
      "execution_count": 81,
      "outputs": [
        {
          "output_type": "execute_result",
          "data": {
            "text/plain": [
              "0    888\n",
              "1    117\n",
              "Name: label, dtype: int64"
            ]
          },
          "metadata": {},
          "execution_count": 81
        }
      ]
    },
    {
      "cell_type": "code",
      "source": [
        "pip install nlpaug"
      ],
      "metadata": {
        "colab": {
          "base_uri": "https://localhost:8080/"
        },
        "id": "HxG8Jt5YlFnv",
        "outputId": "b8e57ffe-5018-4a51-9a06-6407eafad876"
      },
      "execution_count": 25,
      "outputs": [
        {
          "output_type": "stream",
          "name": "stdout",
          "text": [
            "Collecting nlpaug\n",
            "  Downloading nlpaug-1.1.11-py3-none-any.whl (410 kB)\n",
            "\u001b[2K     \u001b[90m━━━━━━━━━━━━━━━━━━━━━━━━━━━━━━━━━━━━━━━\u001b[0m \u001b[32m410.5/410.5 kB\u001b[0m \u001b[31m3.2 MB/s\u001b[0m eta \u001b[36m0:00:00\u001b[0m\n",
            "\u001b[?25hRequirement already satisfied: numpy>=1.16.2 in /usr/local/lib/python3.10/dist-packages (from nlpaug) (1.22.4)\n",
            "Requirement already satisfied: pandas>=1.2.0 in /usr/local/lib/python3.10/dist-packages (from nlpaug) (1.5.3)\n",
            "Requirement already satisfied: requests>=2.22.0 in /usr/local/lib/python3.10/dist-packages (from nlpaug) (2.27.1)\n",
            "Requirement already satisfied: gdown>=4.0.0 in /usr/local/lib/python3.10/dist-packages (from nlpaug) (4.6.6)\n",
            "Requirement already satisfied: filelock in /usr/local/lib/python3.10/dist-packages (from gdown>=4.0.0->nlpaug) (3.12.2)\n",
            "Requirement already satisfied: six in /usr/local/lib/python3.10/dist-packages (from gdown>=4.0.0->nlpaug) (1.16.0)\n",
            "Requirement already satisfied: tqdm in /usr/local/lib/python3.10/dist-packages (from gdown>=4.0.0->nlpaug) (4.65.0)\n",
            "Requirement already satisfied: beautifulsoup4 in /usr/local/lib/python3.10/dist-packages (from gdown>=4.0.0->nlpaug) (4.11.2)\n",
            "Requirement already satisfied: python-dateutil>=2.8.1 in /usr/local/lib/python3.10/dist-packages (from pandas>=1.2.0->nlpaug) (2.8.2)\n",
            "Requirement already satisfied: pytz>=2020.1 in /usr/local/lib/python3.10/dist-packages (from pandas>=1.2.0->nlpaug) (2022.7.1)\n",
            "Requirement already satisfied: urllib3<1.27,>=1.21.1 in /usr/local/lib/python3.10/dist-packages (from requests>=2.22.0->nlpaug) (1.26.16)\n",
            "Requirement already satisfied: certifi>=2017.4.17 in /usr/local/lib/python3.10/dist-packages (from requests>=2.22.0->nlpaug) (2023.7.22)\n",
            "Requirement already satisfied: charset-normalizer~=2.0.0 in /usr/local/lib/python3.10/dist-packages (from requests>=2.22.0->nlpaug) (2.0.12)\n",
            "Requirement already satisfied: idna<4,>=2.5 in /usr/local/lib/python3.10/dist-packages (from requests>=2.22.0->nlpaug) (3.4)\n",
            "Requirement already satisfied: soupsieve>1.2 in /usr/local/lib/python3.10/dist-packages (from beautifulsoup4->gdown>=4.0.0->nlpaug) (2.4.1)\n",
            "Requirement already satisfied: PySocks!=1.5.7,>=1.5.6 in /usr/local/lib/python3.10/dist-packages (from requests>=2.22.0->nlpaug) (1.7.1)\n",
            "Installing collected packages: nlpaug\n",
            "Successfully installed nlpaug-1.1.11\n"
          ]
        }
      ]
    },
    {
      "cell_type": "code",
      "source": [
        "# from nlpaug.augmenter.word import SynonymAug\n",
        "\n",
        "# bragging_data = train_df[train_df['label'] == 1]\n",
        "# not_bragging_data = train_df[train_df['label'] == 0]\n",
        "\n",
        "# aug_synonym = SynonymAug(aug_src='wordnet')\n",
        "# augmented_bragging_data = []\n",
        "\n",
        "# for text in bragging_data['text']:\n",
        "#     augmented_text = aug_synonym.augment(text)\n",
        "#     augmented_bragging_data.append({'text': augmented_text, 'label': 1})\n",
        "\n",
        "# augmented_bragging_df = pd.DataFrame(augmented_bragging_data)\n",
        "\n",
        "# balanced_train_df = pd.concat([not_bragging_data, augmented_bragging_df], ignore_index=True)"
      ],
      "metadata": {
        "id": "iJ9zbePwjgjh"
      },
      "execution_count": 49,
      "outputs": []
    },
    {
      "cell_type": "code",
      "source": [
        "pip install transformers\n"
      ],
      "metadata": {
        "colab": {
          "base_uri": "https://localhost:8080/"
        },
        "id": "QymbOKxkXkQb",
        "outputId": "3284b159-b475-48f6-fc70-1ac4fdbdb935"
      },
      "execution_count": 125,
      "outputs": [
        {
          "output_type": "stream",
          "name": "stdout",
          "text": [
            "Requirement already satisfied: transformers in /usr/local/lib/python3.10/dist-packages (4.31.0)\n",
            "Requirement already satisfied: filelock in /usr/local/lib/python3.10/dist-packages (from transformers) (3.12.2)\n",
            "Requirement already satisfied: huggingface-hub<1.0,>=0.14.1 in /usr/local/lib/python3.10/dist-packages (from transformers) (0.16.4)\n",
            "Requirement already satisfied: numpy>=1.17 in /usr/local/lib/python3.10/dist-packages (from transformers) (1.22.4)\n",
            "Requirement already satisfied: packaging>=20.0 in /usr/local/lib/python3.10/dist-packages (from transformers) (23.1)\n",
            "Requirement already satisfied: pyyaml>=5.1 in /usr/local/lib/python3.10/dist-packages (from transformers) (6.0.1)\n",
            "Requirement already satisfied: regex!=2019.12.17 in /usr/local/lib/python3.10/dist-packages (from transformers) (2022.10.31)\n",
            "Requirement already satisfied: requests in /usr/local/lib/python3.10/dist-packages (from transformers) (2.27.1)\n",
            "Requirement already satisfied: tokenizers!=0.11.3,<0.14,>=0.11.1 in /usr/local/lib/python3.10/dist-packages (from transformers) (0.13.3)\n",
            "Requirement already satisfied: safetensors>=0.3.1 in /usr/local/lib/python3.10/dist-packages (from transformers) (0.3.1)\n",
            "Requirement already satisfied: tqdm>=4.27 in /usr/local/lib/python3.10/dist-packages (from transformers) (4.65.0)\n",
            "Requirement already satisfied: fsspec in /usr/local/lib/python3.10/dist-packages (from huggingface-hub<1.0,>=0.14.1->transformers) (2023.6.0)\n",
            "Requirement already satisfied: typing-extensions>=3.7.4.3 in /usr/local/lib/python3.10/dist-packages (from huggingface-hub<1.0,>=0.14.1->transformers) (4.7.1)\n",
            "Requirement already satisfied: urllib3<1.27,>=1.21.1 in /usr/local/lib/python3.10/dist-packages (from requests->transformers) (1.26.16)\n",
            "Requirement already satisfied: certifi>=2017.4.17 in /usr/local/lib/python3.10/dist-packages (from requests->transformers) (2023.7.22)\n",
            "Requirement already satisfied: charset-normalizer~=2.0.0 in /usr/local/lib/python3.10/dist-packages (from requests->transformers) (2.0.12)\n",
            "Requirement already satisfied: idna<4,>=2.5 in /usr/local/lib/python3.10/dist-packages (from requests->transformers) (3.4)\n"
          ]
        }
      ]
    },
    {
      "cell_type": "code",
      "source": [
        "pip install sentencepiece\n"
      ],
      "metadata": {
        "colab": {
          "base_uri": "https://localhost:8080/"
        },
        "id": "d9vbeffQXvw7",
        "outputId": "3d237937-d69c-4e8d-d203-77492b87f533"
      },
      "execution_count": 127,
      "outputs": [
        {
          "output_type": "stream",
          "name": "stdout",
          "text": [
            "Collecting sentencepiece\n",
            "  Downloading sentencepiece-0.1.99-cp310-cp310-manylinux_2_17_x86_64.manylinux2014_x86_64.whl (1.3 MB)\n",
            "\u001b[2K     \u001b[90m━━━━━━━━━━━━━━━━━━━━━━━━━━━━━━━━━━━━━━━━\u001b[0m \u001b[32m1.3/1.3 MB\u001b[0m \u001b[31m7.8 MB/s\u001b[0m eta \u001b[36m0:00:00\u001b[0m\n",
            "\u001b[?25hInstalling collected packages: sentencepiece\n",
            "Successfully installed sentencepiece-0.1.99\n"
          ]
        }
      ]
    },
    {
      "cell_type": "code",
      "source": [
        "import pandas as pd\n",
        "from sklearn.model_selection import train_test_split\n",
        "from imblearn.over_sampling import RandomOverSampler\n",
        "\n",
        "X = train_df['text']\n",
        "y = train_df['label']\n",
        "\n",
        "oversampler = RandomOverSampler(sampling_strategy='minority', random_state=42)\n",
        "X_train_resampled, y_train_resampled = oversampler.fit_resample(X.values.reshape(-1, 1), y)\n",
        "\n",
        "# Convert the resampled data back to a DataFrame\n",
        "balanced_train_df = pd.DataFrame({'text': X_train_resampled.ravel(), 'label': y_train_resampled})\n",
        "balanced_train_df = balanced_train_df.sample(frac=1).reset_index(drop=True)\n"
      ],
      "metadata": {
        "id": "A5GZTo_Oh1BF"
      },
      "execution_count": 151,
      "outputs": []
    },
    {
      "cell_type": "code",
      "source": [
        "# import pandas as pd\n",
        "# import nlpaug.augmenter.word as naw\n",
        "# from sklearn.model_selection import train_test_split\n",
        "\n",
        "# X = train_df['text']\n",
        "# y = train_df['label']\n",
        "\n",
        "\n",
        "# augmenter = naw.ContextualWordEmbsAug(\n",
        "#     model_path='bert-base-uncased', action=\"insert\", aug_max=10\n",
        "# )\n",
        "\n",
        "# augmented_data = []\n",
        "# for text, label in zip(X, y):\n",
        "#     if label == 1:\n",
        "#         augmented_text = augmenter.augment(text)\n",
        "#         augmented_data.append({'text': augmented_text, 'label': label})\n",
        "\n",
        "\n",
        "# augmented_df = pd.DataFrame(augmented_data)\n",
        "\n",
        "# balanced_train_df = pd.concat([X.to_frame(), augmented_df['text']], axis=1)\n",
        "# balanced_train_df['label'] = y\n",
        "# balanced_train_df = balanced_train_df.sample(frac=1).reset_index(drop=True)\n"
      ],
      "metadata": {
        "id": "gz_ATePxe0ks"
      },
      "execution_count": null,
      "outputs": []
    },
    {
      "cell_type": "code",
      "source": [
        "print(len(balanced_train_df))"
      ],
      "metadata": {
        "colab": {
          "base_uri": "https://localhost:8080/"
        },
        "id": "WiLbsxJZC85D",
        "outputId": "198080fb-cbe2-460b-b9c5-73000fed0735"
      },
      "execution_count": 152,
      "outputs": [
        {
          "output_type": "stream",
          "name": "stdout",
          "text": [
            "8280\n"
          ]
        }
      ]
    },
    {
      "cell_type": "code",
      "source": [
        "print(balanced_train_df['label'].value_counts())"
      ],
      "metadata": {
        "colab": {
          "base_uri": "https://localhost:8080/"
        },
        "id": "Fa1B7EHrliNU",
        "outputId": "7c6429cc-5187-40b3-d277-767834156fb6"
      },
      "execution_count": 153,
      "outputs": [
        {
          "output_type": "stream",
          "name": "stdout",
          "text": [
            "0    4140\n",
            "1    4140\n",
            "Name: label, dtype: int64\n"
          ]
        }
      ]
    },
    {
      "cell_type": "code",
      "source": [
        "bert_tokenizer = BertTokenizer.from_pretrained('bert-base-uncased')\n",
        "distilbert_tokenizer = DistilBertTokenizer.from_pretrained('distilbert-base-uncased')\n",
        "roberta_tokenizer = RobertaTokenizer.from_pretrained('roberta-base')"
      ],
      "metadata": {
        "id": "5me7LxvIjc6i"
      },
      "execution_count": 154,
      "outputs": []
    },
    {
      "cell_type": "code",
      "source": [
        "max_length = 128\n",
        "\n",
        "def tokenize_data(data_df, tokenizer, max_length):\n",
        "    input_ids = []\n",
        "    attention_masks = []\n",
        "    labels = []\n",
        "\n",
        "    for text, label in data_df[['text', 'label']].values:\n",
        "        encoded = tokenizer.encode_plus(\n",
        "            text,\n",
        "            add_special_tokens=True,\n",
        "            max_length=max_length,\n",
        "            padding='max_length',\n",
        "            truncation=True,\n",
        "            return_tensors='pt'\n",
        "        )\n",
        "        input_ids.append(encoded['input_ids'])\n",
        "        attention_masks.append(encoded['attention_mask'])\n",
        "        labels.append(label)\n",
        "\n",
        "    input_ids = torch.cat(input_ids, dim=0)\n",
        "    attention_masks = torch.cat(attention_masks, dim=0)\n",
        "    labels = torch.tensor(labels)\n",
        "\n",
        "    return input_ids, attention_masks, labels"
      ],
      "metadata": {
        "id": "4YiKrX58vPf3"
      },
      "execution_count": 155,
      "outputs": []
    },
    {
      "cell_type": "code",
      "source": [
        "# Tokenize using BERT tokenizer\n",
        "max_length = 128\n",
        "train_input_ids_bert, train_attention_masks_bert, train_labels_bert = tokenize_data(balanced_train_df,bert_tokenizer, max_length)\n",
        "val_input_ids_bert, val_attention_masks_bert, val_labels_bert = tokenize_data(val_df,bert_tokenizer, max_length)\n",
        "test_input_ids_bert, test_attention_masks_bert, test_labels_bert = tokenize_data(test_df,bert_tokenizer, max_length)\n",
        "\n",
        "# Tokenize using DistilBERT tokenizer\n",
        "train_input_ids_distilbert, train_attention_masks_distilbert, train_labels_distilbert = tokenize_data(balanced_train_df,distilbert_tokenizer, max_length)\n",
        "val_input_ids_distilbert, val_attention_masks_distilbert, val_labels_distilbert = tokenize_data(val_df,distilbert_tokenizer, max_length)\n",
        "test_input_ids_distilbert, test_attention_masks_distilbert, test_labels_distilbert = tokenize_data(test_df,distilbert_tokenizer, max_length)\n",
        "\n",
        "# Tokenize using RoBERTa tokenizer\n",
        "train_input_ids_roberta, train_attention_masks_roberta, train_labels_roberta = tokenize_data(balanced_train_df,roberta_tokenizer, max_length)\n",
        "val_input_ids_roberta, val_attention_masks_roberta, val_labels_roberta = tokenize_data(val_df,roberta_tokenizer, max_length)\n",
        "test_input_ids_roberta, test_attention_masks_roberta, test_labels_roberta = tokenize_data(test_df,roberta_tokenizer, max_length)"
      ],
      "metadata": {
        "id": "7Ti-_qaRxijY"
      },
      "execution_count": 156,
      "outputs": []
    },
    {
      "cell_type": "code",
      "source": [
        "train_dataset_bert = TensorDataset(train_input_ids_bert, train_attention_masks_bert, train_labels_bert)\n",
        "val_dataset_bert = TensorDataset(val_input_ids_bert, val_attention_masks_bert, val_labels_bert)\n",
        "test_dataset_bert = TensorDataset(test_input_ids_bert, test_attention_masks_bert, test_labels_bert)\n",
        "\n",
        "train_dataset_distilbert = TensorDataset(train_input_ids_distilbert, train_attention_masks_distilbert, train_labels_distilbert)\n",
        "val_dataset_distilbert = TensorDataset(val_input_ids_distilbert, val_attention_masks_distilbert, val_labels_distilbert)\n",
        "test_dataset_distilbert = TensorDataset(test_input_ids_distilbert, test_attention_masks_distilbert, test_labels_distilbert)\n",
        "\n",
        "train_dataset_roberta = TensorDataset(train_input_ids_roberta, train_attention_masks_roberta, train_labels_roberta)\n",
        "val_dataset_roberta = TensorDataset(val_input_ids_roberta, val_attention_masks_roberta, val_labels_roberta)\n",
        "test_dataset_roberta = TensorDataset(test_input_ids_roberta, test_attention_masks_roberta, test_labels_roberta)"
      ],
      "metadata": {
        "id": "jDNqFo0-xnYG"
      },
      "execution_count": 157,
      "outputs": []
    },
    {
      "cell_type": "code",
      "source": [
        "print(len(train_dataset_bert))"
      ],
      "metadata": {
        "colab": {
          "base_uri": "https://localhost:8080/"
        },
        "id": "GjxwkhGZuxhu",
        "outputId": "7efce59b-752e-4c62-ba09-8e69eb855521"
      },
      "execution_count": 158,
      "outputs": [
        {
          "output_type": "stream",
          "name": "stdout",
          "text": [
            "8280\n"
          ]
        }
      ]
    },
    {
      "cell_type": "code",
      "source": [
        "batch_size = 32\n",
        "num_epochs = 5\n",
        "learning_rate =0.0001\n",
        "\n",
        "train_dataloader_bert = DataLoader(train_dataset_bert, batch_size=batch_size, shuffle=True)\n",
        "val_dataloader_bert = DataLoader(val_dataset_bert, batch_size=batch_size, shuffle=False)\n",
        "test_dataloader_bert = DataLoader(test_dataset_bert, batch_size=batch_size, shuffle=False)\n",
        "\n",
        "train_dataloader_distilbert = DataLoader(train_dataset_distilbert, batch_size=batch_size, shuffle=True)\n",
        "val_dataloader_distilbert = DataLoader(val_dataset_distilbert, batch_size=batch_size, shuffle=False)\n",
        "test_dataloader_distilbert = DataLoader(test_dataset_distilbert, batch_size=batch_size, shuffle=False)\n",
        "\n",
        "train_dataloader_roberta = DataLoader(train_dataset_roberta, batch_size=batch_size, shuffle=True)\n",
        "val_dataloader_roberta = DataLoader(val_dataset_roberta, batch_size=batch_size, shuffle=False)\n",
        "test_dataloader_roberta = DataLoader(test_dataset_roberta, batch_size=batch_size, shuffle=False)"
      ],
      "metadata": {
        "id": "zP8mjIoCxqaB"
      },
      "execution_count": 182,
      "outputs": []
    },
    {
      "cell_type": "code",
      "source": [
        "from transformers import BertForSequenceClassification, DistilBertForSequenceClassification, RobertaForSequenceClassification, AdamW\n",
        "\n",
        "bert_model = BertForSequenceClassification.from_pretrained('bert-base-uncased', num_labels=2)\n",
        "distilbert_model = DistilBertForSequenceClassification.from_pretrained('distilbert-base-uncased', num_labels=2)\n",
        "roberta_model = RobertaForSequenceClassification.from_pretrained('roberta-base', num_labels=2)\n",
        "\n",
        "bert_model.to(device)\n",
        "distilbert_model.to(device)\n",
        "roberta_model.to(device)\n",
        "\n",
        "\n",
        "criterion = nn.CrossEntropyLoss()"
      ],
      "metadata": {
        "colab": {
          "base_uri": "https://localhost:8080/"
        },
        "id": "ryFV8tDxywp9",
        "outputId": "3a4171d5-3b7b-4942-b319-4d385bcb0d7a"
      },
      "execution_count": 183,
      "outputs": [
        {
          "output_type": "stream",
          "name": "stderr",
          "text": [
            "Some weights of BertForSequenceClassification were not initialized from the model checkpoint at bert-base-uncased and are newly initialized: ['classifier.bias', 'classifier.weight']\n",
            "You should probably TRAIN this model on a down-stream task to be able to use it for predictions and inference.\n",
            "Some weights of DistilBertForSequenceClassification were not initialized from the model checkpoint at distilbert-base-uncased and are newly initialized: ['pre_classifier.weight', 'classifier.bias', 'pre_classifier.bias', 'classifier.weight']\n",
            "You should probably TRAIN this model on a down-stream task to be able to use it for predictions and inference.\n",
            "Some weights of RobertaForSequenceClassification were not initialized from the model checkpoint at roberta-base and are newly initialized: ['classifier.out_proj.weight', 'classifier.dense.bias', 'classifier.dense.weight', 'classifier.out_proj.bias']\n",
            "You should probably TRAIN this model on a down-stream task to be able to use it for predictions and inference.\n"
          ]
        }
      ]
    },
    {
      "cell_type": "code",
      "source": [
        "bert_optimizer = AdamW(bert_model.parameters(), lr=learning_rate)\n",
        "distilbert_optimizer = AdamW(distilbert_model.parameters(), lr=learning_rate)\n",
        "roberta_optimizer = AdamW(roberta_model.parameters(), lr=learning_rate)"
      ],
      "metadata": {
        "id": "nc-Fr4MQy60v"
      },
      "execution_count": 184,
      "outputs": []
    },
    {
      "cell_type": "markdown",
      "source": [
        "FOR BERT"
      ],
      "metadata": {
        "id": "s8DPbai66p4t"
      }
    },
    {
      "cell_type": "code",
      "source": [
        "validation_losses = []\n",
        "validation_accuracies = []\n",
        "bert_model.train()\n",
        "\n",
        "for epoch in range(num_epochs):\n",
        "    total_loss = 0\n",
        "\n",
        "    for batch in train_dataloader_bert:\n",
        "        input_ids, attention_masks, labels = batch\n",
        "        input_ids = input_ids.to(device)\n",
        "        attention_masks = attention_masks.to(device)\n",
        "        labels = labels.to(device)\n",
        "\n",
        "        bert_optimizer.zero_grad()\n",
        "        outputs = bert_model(input_ids, attention_mask=attention_masks)[0]\n",
        "        loss = criterion(outputs, labels)\n",
        "        loss.backward()\n",
        "        bert_optimizer.step()\n",
        "        total_loss += loss.item()\n",
        "\n",
        "    average_loss = total_loss / len(train_dataloader_bert)\n",
        "    print(f\"BERT Epoch {epoch+1}/{num_epochs} - Average Loss: {average_loss:.4f}\")\n",
        "\n",
        "    bert_model.eval()\n",
        "    val_loss = 0\n",
        "    val_accuracy = 0\n",
        "    val_total = 0\n",
        "\n",
        "    with torch.no_grad():\n",
        "        for batch in val_dataloader_bert:\n",
        "            inputs, masks, labels = batch\n",
        "            inputs = inputs.to(device)\n",
        "            masks = masks.to(device)\n",
        "            labels = labels.to(device)\n",
        "\n",
        "            outputs = bert_model(inputs, attention_mask=masks)[0]\n",
        "            loss = criterion(outputs, labels)\n",
        "            val_loss += loss.item()\n",
        "\n",
        "            _, predicted = torch.max(outputs, dim=1)\n",
        "            val_accuracy += (predicted == labels).sum().item()\n",
        "            val_total += len(labels)\n",
        "\n",
        "    average_val_loss = val_loss / len(val_dataloader_bert)\n",
        "    accuracy = val_accuracy / val_total\n",
        "\n",
        "    validation_losses.append(average_val_loss)\n",
        "    validation_accuracies.append(accuracy)\n",
        "\n",
        "    print(f\"BERT Validation Loss: {average_val_loss:.4f} - BERT Validation Accuracy: {accuracy:.2f}\")"
      ],
      "metadata": {
        "colab": {
          "base_uri": "https://localhost:8080/"
        },
        "id": "-vpHHA_ozXUy",
        "outputId": "245ea33e-fde1-4f89-c32c-e9b7ee07eb67"
      },
      "execution_count": 185,
      "outputs": [
        {
          "output_type": "stream",
          "name": "stdout",
          "text": [
            "BERT Epoch 1/5 - Average Loss: 0.3280\n",
            "BERT Validation Loss: 0.3665 - BERT Validation Accuracy: 0.88\n",
            "BERT Epoch 2/5 - Average Loss: 0.0475\n",
            "BERT Validation Loss: 0.5256 - BERT Validation Accuracy: 0.90\n",
            "BERT Epoch 3/5 - Average Loss: 0.0172\n",
            "BERT Validation Loss: 0.5837 - BERT Validation Accuracy: 0.90\n",
            "BERT Epoch 4/5 - Average Loss: 0.0277\n",
            "BERT Validation Loss: 0.4458 - BERT Validation Accuracy: 0.91\n",
            "BERT Epoch 5/5 - Average Loss: 0.0266\n",
            "BERT Validation Loss: 0.5367 - BERT Validation Accuracy: 0.90\n"
          ]
        }
      ]
    },
    {
      "cell_type": "code",
      "source": [
        "import matplotlib.pyplot as plt\n",
        "\n",
        "# Plotting the graph\n",
        "plt.figure(figsize=(8, 5))\n",
        "plt.plot(validation_losses, label='Validation Loss', marker='o')\n",
        "plt.plot(validation_accuracies, label='Validation Accuracy', marker='o')\n",
        "plt.xlabel('Epoch')\n",
        "plt.ylabel('Value')\n",
        "plt.title('For BERT Validation Loss and Accuracy over Epochs')\n",
        "plt.legend()\n",
        "plt.show()"
      ],
      "metadata": {
        "id": "xjuj56MKkWs3",
        "colab": {
          "base_uri": "https://localhost:8080/",
          "height": 487
        },
        "outputId": "e2dd5d99-3fd3-4d8d-c264-7283c3c167ec"
      },
      "execution_count": 186,
      "outputs": [
        {
          "output_type": "display_data",
          "data": {
            "text/plain": [
              "<Figure size 800x500 with 1 Axes>"
            ],
            "image/png": "[encoded data removed]"
          },
          "metadata": {}
        }
      ]
    },
    {
      "cell_type": "code",
      "source": [
        "# Evaluation on test set\n",
        "test_loss = 0\n",
        "test_accuracy = 0\n",
        "test_total = 0\n",
        "all_labels = []\n",
        "all_predicted = []\n",
        "\n",
        "with torch.no_grad():\n",
        "    for batch in test_dataloader_bert:\n",
        "        inputs, masks, labels = batch\n",
        "        inputs = inputs.to(device)\n",
        "        masks = masks.to(device)\n",
        "        labels = labels.to(device)\n",
        "\n",
        "        outputs = bert_model(inputs, attention_mask=masks)[0]\n",
        "        loss = criterion(outputs, labels)\n",
        "        test_loss += loss.item()\n",
        "\n",
        "        _, predicted = torch.max(outputs, dim=1)\n",
        "        test_accuracy += (predicted == labels).sum().item()\n",
        "        test_total += len(labels)\n",
        "\n",
        "        all_labels.extend(labels.cpu().numpy())\n",
        "        all_predicted.extend(predicted.cpu().numpy())\n",
        "\n",
        "average_test_loss = test_loss / len(test_dataloader_bert)\n",
        "accuracy = test_accuracy / test_total\n",
        "print(f\"Test Loss: {average_test_loss:.4f} - Test Accuracy: {accuracy:.4f}\")"
      ],
      "metadata": {
        "id": "O1IsHE1NGDR-",
        "colab": {
          "base_uri": "https://localhost:8080/"
        },
        "outputId": "09183d71-f48f-465a-9ea7-e55dd0cdd283"
      },
      "execution_count": 187,
      "outputs": [
        {
          "output_type": "stream",
          "name": "stdout",
          "text": [
            "Test Loss: 0.4713 - Test Accuracy: 0.9065\n"
          ]
        }
      ]
    },
    {
      "cell_type": "code",
      "source": [
        "from sklearn.metrics import confusion_matrix\n",
        "bert_confusion = confusion_matrix(all_labels, all_predicted)\n",
        "print(\"Confusion Matrix:\")\n",
        "print(bert_confusion)"
      ],
      "metadata": {
        "id": "uHBjYr5WoJNJ",
        "colab": {
          "base_uri": "https://localhost:8080/"
        },
        "outputId": "efccf4a2-466d-409e-9060-2fca31d168b4"
      },
      "execution_count": 188,
      "outputs": [
        {
          "output_type": "stream",
          "name": "stdout",
          "text": [
            "Confusion Matrix:\n",
            "[[875  13]\n",
            " [ 81  36]]\n"
          ]
        }
      ]
    },
    {
      "cell_type": "code",
      "source": [
        "target_names = ['Not Bragging', 'Bragging']\n",
        "classification_rep = classification_report(all_labels, all_predicted,target_names=target_names)\n",
        "print(\"Classification Report:\")\n",
        "print(classification_rep)"
      ],
      "metadata": {
        "id": "UDl4XhAXczZY",
        "colab": {
          "base_uri": "https://localhost:8080/"
        },
        "outputId": "e5fe72fe-23cc-4542-f8d1-74169c3ba47c"
      },
      "execution_count": 189,
      "outputs": [
        {
          "output_type": "stream",
          "name": "stdout",
          "text": [
            "Classification Report:\n",
            "              precision    recall  f1-score   support\n",
            "\n",
            "Not Bragging       0.92      0.99      0.95       888\n",
            "    Bragging       0.73      0.31      0.43       117\n",
            "\n",
            "    accuracy                           0.91      1005\n",
            "   macro avg       0.82      0.65      0.69      1005\n",
            "weighted avg       0.89      0.91      0.89      1005\n",
            "\n"
          ]
        }
      ]
    },
    {
      "cell_type": "code",
      "source": [
        "def predict_bragging(text, model):\n",
        "    # Tokenize and preprocess input text\n",
        "    inputs = bert_tokenizer.encode_plus(text, add_special_tokens=True, padding='max_length', max_length=128, return_tensors='pt')\n",
        "    input_ids = inputs['input_ids']\n",
        "    attention_mask = inputs['attention_mask']\n",
        "\n",
        "    # Move tensors to the same device as the model\n",
        "    input_ids = input_ids.to(device)\n",
        "    attention_mask = attention_mask.to(device)\n",
        "\n",
        "    # Make prediction\n",
        "    with torch.no_grad():\n",
        "        model.eval()\n",
        "\n",
        "        outputs = model(input_ids, attention_mask=attention_mask)\n",
        "        logits = outputs.logits  # Access the logits directly\n",
        "        predictions = logits.argmax(dim=1)  # Get the index of the highest logit as prediction\n",
        "\n",
        "    # Convert tensor to numpy array\n",
        "    predictions = predictions.cpu().numpy()\n",
        "\n",
        "    for prediction in predictions:\n",
        "        probability = torch.sigmoid(logits).cpu().numpy()  # Calculate probability\n",
        "        probability = probability[0][1]  # Extract probability for positive class\n",
        "\n",
        "        if probability > 0.50:\n",
        "            print(f'{probability:.3f}: Bragging')\n",
        "        else:\n",
        "            print(f'{probability:.3f}: Not bragging')\n",
        "\n",
        "    return predictions\n",
        "\n",
        "# Example usage\n",
        "test_text = \"Do n't think I 'm gonna get around to uploading an episode tonight - listen to The Night Train instead , it 's better xx\"\n",
        "prediction = predict_bragging(test_text, bert_model)\n"
      ],
      "metadata": {
        "id": "KZE4WL8rP_Sp",
        "colab": {
          "base_uri": "https://localhost:8080/"
        },
        "outputId": "0dff66e4-6e3e-48e6-e754-abee0e9d3beb"
      },
      "execution_count": 190,
      "outputs": [
        {
          "output_type": "stream",
          "name": "stdout",
          "text": [
            "0.019: Not bragging\n"
          ]
        }
      ]
    },
    {
      "cell_type": "markdown",
      "source": [
        "FOR DISTILBERT"
      ],
      "metadata": {
        "id": "zmPP-COf208I"
      }
    },
    {
      "cell_type": "code",
      "source": [
        "validation_losses_distilbert = []\n",
        "validation_accuracies_distilbert = []\n",
        "distilbert_model.train()\n",
        "\n",
        "for epoch in range(num_epochs):\n",
        "    total_loss = 0\n",
        "\n",
        "    for batch in train_dataloader_distilbert:\n",
        "        input_ids, attention_masks, labels = batch\n",
        "        input_ids = input_ids.to(device)\n",
        "        attention_masks = attention_masks.to(device)\n",
        "        labels = labels.to(device)\n",
        "\n",
        "        distilbert_optimizer.zero_grad()\n",
        "        outputs = distilbert_model(input_ids, attention_mask=attention_masks)[0]\n",
        "        loss = criterion(outputs, labels)\n",
        "        loss.backward()\n",
        "        distilbert_optimizer.step()\n",
        "        total_loss += loss.item()\n",
        "\n",
        "    average_loss = total_loss / len(train_dataloader_distilbert)\n",
        "    print(f\"DistilBERT Epoch {epoch+1}/{num_epochs} - Average Loss: {average_loss:.4f}\")\n",
        "\n",
        "    distilbert_model.eval()\n",
        "    val_loss = 0\n",
        "    val_accuracy = 0\n",
        "    val_total = 0\n",
        "\n",
        "    with torch.no_grad():\n",
        "        for batch in val_dataloader_distilbert:\n",
        "            inputs, masks, labels = batch\n",
        "            inputs = inputs.to(device)\n",
        "            masks = masks.to(device)\n",
        "            labels = labels.to(device)\n",
        "\n",
        "            outputs = distilbert_model(inputs, attention_mask=masks)[0]\n",
        "            loss = criterion(outputs, labels)\n",
        "            val_loss += loss.item()\n",
        "\n",
        "            _, predicted = torch.max(outputs, dim=1)\n",
        "            val_accuracy += (predicted == labels).sum().item()\n",
        "            val_total += len(labels)\n",
        "\n",
        "    average_val_loss = val_loss / len(val_dataloader_distilbert)\n",
        "    accuracy = val_accuracy / val_total\n",
        "\n",
        "    validation_losses_distilbert.append(average_val_loss)\n",
        "    validation_accuracies_distilbert.append(accuracy)\n",
        "\n",
        "    print(f\"DistilBERT Validation Loss: {average_val_loss:.4f} - DistilBERT Validation Accuracy: {accuracy:.2f}\")\n"
      ],
      "metadata": {
        "id": "Gmvt4Men2XCt",
        "colab": {
          "base_uri": "https://localhost:8080/"
        },
        "outputId": "39c69b9c-149b-4867-b79b-45d8b7887211"
      },
      "execution_count": 191,
      "outputs": [
        {
          "output_type": "stream",
          "name": "stdout",
          "text": [
            "DistilBERT Epoch 1/5 - Average Loss: 0.2808\n",
            "DistilBERT Validation Loss: 0.3598 - DistilBERT Validation Accuracy: 0.89\n",
            "DistilBERT Epoch 2/5 - Average Loss: 0.0404\n",
            "DistilBERT Validation Loss: 0.5654 - DistilBERT Validation Accuracy: 0.89\n",
            "DistilBERT Epoch 3/5 - Average Loss: 0.0192\n",
            "DistilBERT Validation Loss: 0.4965 - DistilBERT Validation Accuracy: 0.88\n",
            "DistilBERT Epoch 4/5 - Average Loss: 0.0097\n",
            "DistilBERT Validation Loss: 0.7636 - DistilBERT Validation Accuracy: 0.86\n",
            "DistilBERT Epoch 5/5 - Average Loss: 0.0205\n",
            "DistilBERT Validation Loss: 0.5764 - DistilBERT Validation Accuracy: 0.89\n"
          ]
        }
      ]
    },
    {
      "cell_type": "code",
      "source": [
        "# Plotting the graph\n",
        "plt.figure(figsize=(8, 5))\n",
        "plt.plot(validation_losses_distilbert, label='Validation Loss', marker='o')\n",
        "plt.plot(validation_accuracies_distilbert, label='Validation Accuracy', marker='o')\n",
        "plt.xlabel('Epoch')\n",
        "plt.ylabel('Value')\n",
        "plt.title('For DistilBERT Validation Loss and Accuracy over Epochs')\n",
        "plt.legend()\n",
        "plt.show()"
      ],
      "metadata": {
        "id": "hEJI5Lxb27ab",
        "colab": {
          "base_uri": "https://localhost:8080/",
          "height": 487
        },
        "outputId": "359062e4-2d5e-42c8-e4a8-8b13aa806f56"
      },
      "execution_count": 192,
      "outputs": [
        {
          "output_type": "display_data",
          "data": {
            "text/plain": [
              "<Figure size 800x500 with 1 Axes>"
            ],
            "image/png": "[encoded data removed]"
          },
          "metadata": {}
        }
      ]
    },
    {
      "cell_type": "code",
      "source": [
        "test_loss_distilbert = 0\n",
        "test_accuracy_distilbert = 0\n",
        "test_total_distilbert = 0\n",
        "all_labels_distilbert = []\n",
        "all_predicted_distilbert = []\n",
        "\n",
        "with torch.no_grad():\n",
        "    for batch in test_dataloader_distilbert:\n",
        "        inputs, masks, labels = batch\n",
        "        inputs = inputs.to(device)\n",
        "        masks = masks.to(device)\n",
        "        labels = labels.to(device)\n",
        "\n",
        "        outputs = distilbert_model(inputs, attention_mask=masks)[0]\n",
        "        loss = criterion(outputs, labels)\n",
        "        test_loss_distilbert += loss.item()\n",
        "\n",
        "        _, predicted = torch.max(outputs, dim=1)\n",
        "        test_accuracy_distilbert += (predicted == labels).sum().item()\n",
        "        test_total_distilbert += len(labels)\n",
        "\n",
        "        all_labels_distilbert.extend(labels.cpu().numpy())\n",
        "        all_predicted_distilbert.extend(predicted.cpu().numpy())\n",
        "\n",
        "average_test_loss_distilbert = test_loss_distilbert / len(test_dataloader_distilbert)\n",
        "accuracy_distilbert = test_accuracy_distilbert / test_total_distilbert\n",
        "print(f\"DistilBERT Test Loss: {average_test_loss_distilbert:.4f} - DistilBERT Test Accuracy: {accuracy_distilbert:.4f}\")\n"
      ],
      "metadata": {
        "id": "k0ceJxcu3jO4",
        "colab": {
          "base_uri": "https://localhost:8080/"
        },
        "outputId": "2ef54914-33da-4e36-b059-2fc030908f7c"
      },
      "execution_count": 193,
      "outputs": [
        {
          "output_type": "stream",
          "name": "stdout",
          "text": [
            "DistilBERT Test Loss: 0.5196 - DistilBERT Test Accuracy: 0.9005\n"
          ]
        }
      ]
    },
    {
      "cell_type": "code",
      "source": [
        "from sklearn.metrics import confusion_matrix\n",
        "distilbert_confusion = confusion_matrix(all_labels_distilbert, all_predicted_distilbert)\n",
        "print(\"Confusion Matrix:\")\n",
        "print(distilbert_confusion)"
      ],
      "metadata": {
        "id": "IEB9Z5rx4aEV",
        "colab": {
          "base_uri": "https://localhost:8080/"
        },
        "outputId": "ca468091-5a89-40fc-e42b-eb6678da5964"
      },
      "execution_count": 194,
      "outputs": [
        {
          "output_type": "stream",
          "name": "stdout",
          "text": [
            "Confusion Matrix:\n",
            "[[874  14]\n",
            " [ 86  31]]\n"
          ]
        }
      ]
    },
    {
      "cell_type": "code",
      "source": [
        "target_names = ['Not Bragging', 'Bragging']\n",
        "distilbert_classification_rep = classification_report(all_labels_distilbert, all_predicted_distilbert)\n",
        "print(\"Classification Report:\")\n",
        "print(distilbert_classification_rep)"
      ],
      "metadata": {
        "id": "b_0QMNg-4sY6",
        "colab": {
          "base_uri": "https://localhost:8080/"
        },
        "outputId": "4a3f0d8f-7e5b-4efb-9ca6-1ebbcc2b6a96"
      },
      "execution_count": 195,
      "outputs": [
        {
          "output_type": "stream",
          "name": "stdout",
          "text": [
            "Classification Report:\n",
            "              precision    recall  f1-score   support\n",
            "\n",
            "           0       0.91      0.98      0.95       888\n",
            "           1       0.69      0.26      0.38       117\n",
            "\n",
            "    accuracy                           0.90      1005\n",
            "   macro avg       0.80      0.62      0.66      1005\n",
            "weighted avg       0.88      0.90      0.88      1005\n",
            "\n"
          ]
        }
      ]
    },
    {
      "cell_type": "markdown",
      "source": [
        "FOR ROBERTa"
      ],
      "metadata": {
        "id": "lbSHjfhH3Uv7"
      }
    },
    {
      "cell_type": "code",
      "source": [
        "validation_losses_roberta = []\n",
        "validation_accuracies_roberta = []\n",
        "roberta_model.train()\n",
        "\n",
        "for epoch in range(num_epochs):\n",
        "    total_loss = 0\n",
        "\n",
        "    for batch in train_dataloader_roberta:\n",
        "        input_ids, attention_masks, labels = batch\n",
        "        input_ids = input_ids.to(device)\n",
        "        attention_masks = attention_masks.to(device)\n",
        "        labels = labels.to(device)\n",
        "\n",
        "        roberta_optimizer.zero_grad()\n",
        "        outputs = roberta_model(input_ids, attention_mask=attention_masks)[0]\n",
        "        loss = criterion(outputs, labels)\n",
        "        loss.backward()\n",
        "        roberta_optimizer.step()\n",
        "        total_loss += loss.item()\n",
        "\n",
        "    average_loss = total_loss / len(train_dataloader_roberta)\n",
        "    print(f\"RoBERTa Epoch {epoch+1}/{num_epochs} - Average Loss: {average_loss:.4f}\")\n",
        "\n",
        "    roberta_model.eval()\n",
        "    val_loss = 0\n",
        "    val_accuracy = 0\n",
        "    val_total = 0\n",
        "\n",
        "    with torch.no_grad():\n",
        "        for batch in val_dataloader_roberta:\n",
        "            inputs, masks, labels = batch\n",
        "            inputs = inputs.to(device)\n",
        "            masks = masks.to(device)\n",
        "            labels = labels.to(device)\n",
        "\n",
        "            outputs = roberta_model(inputs, attention_mask=masks)[0]\n",
        "            loss = criterion(outputs, labels)\n",
        "            val_loss += loss.item()\n",
        "\n",
        "            _, predicted = torch.max(outputs, dim=1)\n",
        "            val_accuracy += (predicted == labels).sum().item()\n",
        "            val_total += len(labels)\n",
        "\n",
        "    average_val_loss = val_loss / len(val_dataloader_roberta)\n",
        "    accuracy = val_accuracy / val_total\n",
        "\n",
        "    validation_losses_roberta.append(average_val_loss)\n",
        "    validation_accuracies_roberta.append(accuracy)\n",
        "\n",
        "    print(f\"RoBERTa Validation Loss: {average_val_loss:.4f} - RoBERTa Validation Accuracy: {accuracy:.2f}\")\n"
      ],
      "metadata": {
        "id": "Dt1IIbOy3TJi",
        "colab": {
          "base_uri": "https://localhost:8080/"
        },
        "outputId": "e4f6a4fb-5fe7-45de-8880-847d755f0e36"
      },
      "execution_count": 196,
      "outputs": [
        {
          "output_type": "stream",
          "name": "stdout",
          "text": [
            "RoBERTa Epoch 1/5 - Average Loss: 0.4190\n",
            "RoBERTa Validation Loss: 0.3696 - RoBERTa Validation Accuracy: 0.87\n",
            "RoBERTa Epoch 2/5 - Average Loss: 0.1242\n",
            "RoBERTa Validation Loss: 0.3712 - RoBERTa Validation Accuracy: 0.89\n",
            "RoBERTa Epoch 3/5 - Average Loss: 0.0614\n",
            "RoBERTa Validation Loss: 0.3735 - RoBERTa Validation Accuracy: 0.85\n",
            "RoBERTa Epoch 4/5 - Average Loss: 0.0557\n",
            "RoBERTa Validation Loss: 0.4224 - RoBERTa Validation Accuracy: 0.89\n",
            "RoBERTa Epoch 5/5 - Average Loss: 0.1276\n",
            "RoBERTa Validation Loss: 0.4680 - RoBERTa Validation Accuracy: 0.90\n"
          ]
        }
      ]
    },
    {
      "cell_type": "code",
      "source": [
        "plt.figure(figsize=(10, 5))\n",
        "plt.plot(validation_losses_roberta, label='Validation Loss', marker='o')\n",
        "plt.plot(validation_accuracies_roberta, label='Validation Accuracy', marker='o')\n",
        "plt.xlabel('Epoch')\n",
        "plt.ylabel('Value')\n",
        "plt.title('For RoBERTa Validation Loss and Accuracy over Epochs')\n",
        "plt.legend()\n",
        "plt.show()"
      ],
      "metadata": {
        "id": "OP_g4i-n3csw",
        "colab": {
          "base_uri": "https://localhost:8080/",
          "height": 487
        },
        "outputId": "702dc0dd-3287-42eb-a587-ebd31cb2d29d"
      },
      "execution_count": 197,
      "outputs": [
        {
          "output_type": "display_data",
          "data": {
            "text/plain": [
              "<Figure size 1000x500 with 1 Axes>"
            ],
            "image/png": "[encoded data removed]"
          },
          "metadata": {}
        }
      ]
    },
    {
      "cell_type": "code",
      "source": [
        "test_loss_roberta = 0\n",
        "test_accuracy_roberta = 0\n",
        "test_total_roberta = 0\n",
        "all_labels_roberta = []\n",
        "all_predicted_roberta = []\n",
        "\n",
        "with torch.no_grad():\n",
        "    for batch in test_dataloader_roberta:\n",
        "        inputs, masks, labels = batch\n",
        "        inputs = inputs.to(device)\n",
        "        masks = masks.to(device)\n",
        "        labels = labels.to(device)\n",
        "\n",
        "        outputs = roberta_model(inputs, attention_mask=masks)[0]\n",
        "        loss = criterion(outputs, labels)\n",
        "        test_loss_roberta += loss.item()\n",
        "\n",
        "        _, predicted = torch.max(outputs, dim=1)\n",
        "        test_accuracy_roberta += (predicted == labels).sum().item()\n",
        "        test_total_roberta += len(labels)\n",
        "\n",
        "        all_labels_roberta.extend(labels.cpu().numpy())\n",
        "        all_predicted_roberta.extend(predicted.cpu().numpy())\n",
        "\n",
        "average_test_loss_roberta = test_loss_roberta / len(test_dataloader_roberta)\n",
        "accuracy_roberta = test_accuracy_roberta / test_total_roberta\n",
        "print(f\"RoBERTa Test Loss: {average_test_loss_roberta:.4f} - RoBERTa Test Accuracy: {accuracy_roberta:.4f}\")"
      ],
      "metadata": {
        "id": "mbbBnsHW5AjB",
        "colab": {
          "base_uri": "https://localhost:8080/"
        },
        "outputId": "867c52bb-9597-4650-aa60-e1066bba89e9"
      },
      "execution_count": 198,
      "outputs": [
        {
          "output_type": "stream",
          "name": "stdout",
          "text": [
            "RoBERTa Test Loss: 0.4185 - RoBERTa Test Accuracy: 0.9085\n"
          ]
        }
      ]
    },
    {
      "cell_type": "code",
      "source": [
        "from sklearn.metrics import confusion_matrix\n",
        "roberta_confusion = confusion_matrix(all_labels_roberta, all_predicted_roberta)\n",
        "print(\"Confusion Matrix:\")\n",
        "print(roberta_confusion)"
      ],
      "metadata": {
        "id": "grnbOooH3iDJ",
        "colab": {
          "base_uri": "https://localhost:8080/"
        },
        "outputId": "6c5fd0f6-4da7-4cc4-9ca4-407e948f7ae4"
      },
      "execution_count": 199,
      "outputs": [
        {
          "output_type": "stream",
          "name": "stdout",
          "text": [
            "Confusion Matrix:\n",
            "[[872  16]\n",
            " [ 76  41]]\n"
          ]
        }
      ]
    },
    {
      "cell_type": "code",
      "source": [
        "target_names = ['Not Bragging', 'Bragging']\n",
        "roberta_classification_rep = classification_report(all_labels_roberta, all_predicted_roberta)\n",
        "print(\"Classification Report:\")\n",
        "print(roberta_classification_rep)"
      ],
      "metadata": {
        "id": "nQhpAu3P5IrC",
        "colab": {
          "base_uri": "https://localhost:8080/"
        },
        "outputId": "80d2de5a-c670-4477-c0e7-d227c7321da4"
      },
      "execution_count": 200,
      "outputs": [
        {
          "output_type": "stream",
          "name": "stdout",
          "text": [
            "Classification Report:\n",
            "              precision    recall  f1-score   support\n",
            "\n",
            "           0       0.92      0.98      0.95       888\n",
            "           1       0.72      0.35      0.47       117\n",
            "\n",
            "    accuracy                           0.91      1005\n",
            "   macro avg       0.82      0.67      0.71      1005\n",
            "weighted avg       0.90      0.91      0.89      1005\n",
            "\n"
          ]
        }
      ]
    },
    {
      "cell_type": "code",
      "source": [
        "import matplotlib.pyplot as plt\n",
        "\n",
        "bert_accuracy = 0.9065\n",
        "distilbert_accuracy = 0.9005\n",
        "roberta_accuracy = 0.9085\n",
        "\n",
        "models = ['BERT', 'DistilBERT', 'RoBERTa']\n",
        "accuracies = [bert_accuracy, distilbert_accuracy, roberta_accuracy]\n",
        "\n",
        "plt.bar(models, accuracies, color=['blue', 'green', 'orange'])\n",
        "plt.xlabel('Model')\n",
        "plt.ylabel('Accuracy')\n",
        "plt.title('Accuracy Comparison between BERT, DistilBERT, and RoBERTa')\n",
        "plt.ylim(0.8, 1.0)  # Adjust the y-axis limits as needed\n",
        "plt.show()\n"
      ],
      "metadata": {
        "id": "wLYQsI3ztILE",
        "colab": {
          "base_uri": "https://localhost:8080/",
          "height": 472
        },
        "outputId": "d09a9078-c881-4ff3-d3fe-3e526dee86eb"
      },
      "execution_count": 202,
      "outputs": [
        {
          "output_type": "display_data",
          "data": {
            "text/plain": [
              "<Figure size 640x480 with 1 Axes>"
            ],
            "image/png": "[encoded data removed]"
          },
          "metadata": {}
        }
      ]
    }
  ],
  "metadata": {
    "kernelspec": {
      "display_name": "Python 3",
      "name": "python3"
    },
    "language_info": {
      "codemirror_mode": {
        "name": "ipython",
        "version": 3
      },
      "file_extension": ".py",
      "mimetype": "text/x-python",
      "name": "python",
      "nbconvert_exporter": "python",
      "pygments_lexer": "ipython3",
      "version": "3.9.13"
    },
    "orig_nbformat": 4,
    "colab": {
      "provenance": [],
      "gpuType": "T4"
    },
    "accelerator": "GPU"
  },
  "nbformat": 4,
  "nbformat_minor": 0
}